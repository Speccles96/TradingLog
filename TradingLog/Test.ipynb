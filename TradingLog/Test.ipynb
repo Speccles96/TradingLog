{
 "cells": [
  {
   "cell_type": "code",
   "execution_count": 1,
   "metadata": {},
   "outputs": [],
   "source": [
    "from TradingLog.file_parser import Parse\n",
    "from TradingLog.data import DataEngine\n",
    "from TradingLog.plot import Plotting\n",
    "import pandas as pd "
   ]
  },
  {
   "cell_type": "code",
   "execution_count": 2,
   "metadata": {},
   "outputs": [],
   "source": [
    "ofx_file = '/Users/david/Downloads/U3913547_20210101_20211008.ofx'\n",
    "tlg_file = '/Users/david/Downloads/test.tlg'\n",
    "\n",
    "ofx = Parse()\n",
    "tlg = Parse()\n",
    "data = DataEngine()\n",
    "plot = Plotting()"
   ]
  },
  {
   "cell_type": "code",
   "execution_count": 3,
   "metadata": {},
   "outputs": [],
   "source": [
    "ofx.parse_input(ofx_file)\n",
    "tlg.parse_input(tlg_file)"
   ]
  },
  {
   "cell_type": "code",
   "execution_count": 4,
   "metadata": {},
   "outputs": [
    {
     "data": {
      "text/plain": [
       "tx_type                                               buyopt\n",
       "date_time                                2021-08-09 17:28:12\n",
       "uniqueid                                           421712139\n",
       "income_type                                                 \n",
       "units                                                     25\n",
       "unit_price                                               0.2\n",
       "commission                                             31.25\n",
       "fees                                                       0\n",
       "total_price                                          -531.25\n",
       "tferaction                                              None\n",
       "date                                              2021-08-09\n",
       "time                                                17:28:12\n",
       "name               BBD   230120C00003000 BBD.B 20JAN23 3.0 C\n",
       "option_ticker                          BBD   230120C00003000\n",
       "symbol                                                   BBD\n",
       "opt_description          230120C00003000 BBD.B 20JAN23 3.0 C\n",
       "exchange                                                None\n",
       "opt_type                                                   C\n",
       "strike                                                   3.0\n",
       "expiration                                            230120\n",
       "Name: 0, dtype: object"
      ]
     },
     "execution_count": 4,
     "metadata": {},
     "output_type": "execute_result"
    }
   ],
   "source": [
    "ofx.optxs.iloc[0]"
   ]
  },
  {
   "cell_type": "code",
   "execution_count": 5,
   "metadata": {},
   "outputs": [
    {
     "data": {
      "text/plain": [
       "tx_type                          OPT_TRD\n",
       "uniqueid                       112842475\n",
       "option_ticker      AA    211015C00041000\n",
       "opt_description        AA 15OCT21 41.0 C\n",
       "exchange                          GEMINI\n",
       "optselltype                    BUYTOOPEN\n",
       "buy_sell_type                          O\n",
       "date                            20210601\n",
       "time                            13:23:17\n",
       "currency                             USD\n",
       "units                               3.00\n",
       "100                               100.00\n",
       "unit_price                          5.40\n",
       "total_price                      1620.00\n",
       "commission                       -1.2234\n",
       "currate                           1.2071\n",
       "symbol                                AA\n",
       "strike                              41.0\n",
       "opt_type                               C\n",
       "expiration                        211015\n",
       "date_time            2021-06-01 13:23:17\n",
       "Name: 19, dtype: object"
      ]
     },
     "execution_count": 5,
     "metadata": {},
     "output_type": "execute_result"
    }
   ],
   "source": [
    "tlg.optxs.iloc[0]"
   ]
  },
  {
   "cell_type": "code",
   "execution_count": 6,
   "metadata": {},
   "outputs": [
    {
     "data": {
      "text/plain": [
       "['optselltype', 'buy_sell_type', 'currency', '100', 'currate']"
      ]
     },
     "execution_count": 6,
     "metadata": {},
     "output_type": "execute_result"
    }
   ],
   "source": [
    "[x for x in tlg.optxs.columns if x not in ofx.optxs.columns]"
   ]
  },
  {
   "cell_type": "code",
   "execution_count": 7,
   "metadata": {},
   "outputs": [
    {
     "data": {
      "text/plain": [
       "0      230120\n",
       "1      230120\n",
       "2      211015\n",
       "3      220121\n",
       "4      220121\n",
       "        ...  \n",
       "165    210521\n",
       "166    210319\n",
       "167    210618\n",
       "168    210319\n",
       "169    210319\n",
       "Name: name, Length: 167, dtype: object"
      ]
     },
     "execution_count": 7,
     "metadata": {},
     "output_type": "execute_result"
    }
   ],
   "source": [
    "ofx.optxs['date_time'].dt.strftime('%Y-%m-%d')\n",
    "#time\n",
    "ofx.optxs['date_time'].dt.strftime('%H:%M:%S')\n",
    "#strike\n",
    "ofx.optxs['name'].str.split(' ').str[-2]\n",
    "#expiration\n",
    "pd.to_datetime(ofx.optxs['name'].str.split(' ').str[-3]).dt.strftime('%y%m%d')\n",
    "\n"
   ]
  },
  {
   "cell_type": "code",
   "execution_count": 16,
   "metadata": {},
   "outputs": [
    {
     "name": "stdout",
     "output_type": "stream",
     "text": [
      "Index(['tx_type', 'date_time', 'uniqueid', 'income_type', 'units',\n",
      "       'unit_price', 'commission', 'fees', 'total_price', 'tferaction', 'date',\n",
      "       'time', 'name', 'option_ticker', 'symbol', 'opt_description',\n",
      "       'exchange', 'opt_type', 'strike', 'expiration'],\n",
      "      dtype='object') \n",
      "\n",
      "Index(['tx_type', 'uniqueid', 'option_ticker', 'opt_description', 'exchange',\n",
      "       'optselltype', 'buy_sell_type', 'date', 'time', 'currency', 'units',\n",
      "       '100', 'unit_price', 'total_price', 'commission', 'currate', 'symbol',\n",
      "       'strike', 'opt_type', 'expiration', 'date_time'],\n",
      "      dtype='object')\n",
      "Index(['tx_type', 'date_time', 'uniqueid', 'income_type', 'units',\n",
      "       'unit_price', 'commission', 'fees', 'total_price', 'tferaction', 'name',\n",
      "       'option_ticker', 'symbol', 'opt_description', 'exchange', 'opt_type',\n",
      "       'strike', 'expiration'],\n",
      "      dtype='object') \n",
      "\n",
      "RangeIndex(start=0, stop=16, step=1)\n"
     ]
    }
   ],
   "source": [
    "print(ofx.optxs.columns,'\\n')\n",
    "print(tlg.optxs.columns)\n",
    "\n",
    "print(ofx.stktxs.columns,'\\n')\n",
    "print(tlg.stktxs.columns)\n",
    "\n",
    "#print(ofx.optxs.columns)\n",
    "\n",
    "# print(ofx.optxs.dtypes)\n",
    "\n",
    "\n",
    "\n"
   ]
  },
  {
   "cell_type": "code",
   "execution_count": 15,
   "metadata": {},
   "outputs": [
    {
     "ename": "AttributeError",
     "evalue": "'DataEngine' object has no attribute 'ohlc'",
     "output_type": "error",
     "traceback": [
      "\u001b[0;31m---------------------------------------------------------------------------\u001b[0m",
      "\u001b[0;31mAttributeError\u001b[0m                            Traceback (most recent call last)",
      "\u001b[0;32m/var/folders/nk/c41qvprx6rbgfvhf7sgg_6940000gn/T/ipykernel_2522/4023154240.py\u001b[0m in \u001b[0;36m<module>\u001b[0;34m\u001b[0m\n\u001b[0;32m----> 1\u001b[0;31m \u001b[0mbuy\u001b[0m\u001b[0;34m,\u001b[0m \u001b[0msells\u001b[0m\u001b[0;34m,\u001b[0m\u001b[0mohlc\u001b[0m \u001b[0;34m=\u001b[0m \u001b[0mplot\u001b[0m\u001b[0;34m.\u001b[0m\u001b[0mgraph\u001b[0m\u001b[0;34m(\u001b[0m\u001b[0mohlc\u001b[0m\u001b[0;34m=\u001b[0m\u001b[0mdata\u001b[0m\u001b[0;34m.\u001b[0m\u001b[0mohlc\u001b[0m\u001b[0;34m,\u001b[0m\u001b[0mtxs\u001b[0m\u001b[0;34m=\u001b[0m\u001b[0mdf\u001b[0m\u001b[0;34m,\u001b[0m\u001b[0mticker\u001b[0m\u001b[0;34m=\u001b[0m\u001b[0;34m'X'\u001b[0m\u001b[0;34m)\u001b[0m\u001b[0;34m\u001b[0m\u001b[0;34m\u001b[0m\u001b[0m\n\u001b[0m",
      "\u001b[0;31mAttributeError\u001b[0m: 'DataEngine' object has no attribute 'ohlc'"
     ]
    }
   ],
   "source": [
    "buy, sells,ohlc = plot.graph(ohlc=data.ohlc,txs=df,ticker='X')"
   ]
  },
  {
   "cell_type": "code",
   "execution_count": null,
   "metadata": {},
   "outputs": [],
   "source": [
    "from datetime import datetime\n",
    "# datetime.date()\n",
    "\n",
    "datet = datetime.strptime(\"2021-08-09 17:30:00\", \"%Y-%m-%d %H:%M:%S\")\n",
    "\n",
    "ohlc[ohlc['date_time'] == datet]"
   ]
  },
  {
   "cell_type": "code",
   "execution_count": null,
   "metadata": {},
   "outputs": [],
   "source": [
    "sells"
   ]
  },
  {
   "cell_type": "code",
   "execution_count": null,
   "metadata": {},
   "outputs": [],
   "source": []
  }
 ],
 "metadata": {
  "interpreter": {
   "hash": "aee8b7b246df8f9039afb4144a1f6fd8d2ca17a180786b69acc140d282b71a49"
  },
  "kernelspec": {
   "display_name": "Python 3.9.7 64-bit",
   "name": "python3"
  },
  "language_info": {
   "codemirror_mode": {
    "name": "ipython",
    "version": 3
   },
   "file_extension": ".py",
   "mimetype": "text/x-python",
   "name": "python",
   "nbconvert_exporter": "python",
   "pygments_lexer": "ipython3",
   "version": "3.9.7"
  },
  "orig_nbformat": 4
 },
 "nbformat": 4,
 "nbformat_minor": 2
}
