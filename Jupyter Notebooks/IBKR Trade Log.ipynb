{
 "cells": [
  {
   "cell_type": "code",
   "execution_count": 23,
   "metadata": {},
   "outputs": [],
   "source": [
    "import os\n",
    "import pandas as pd\n",
    "import pandas_datareader as dr\n",
    "import numpy as np\n",
    "from tqdm import tqdm\n",
    "import glob\n",
    "\n",
    "import time\n",
    "import math\n",
    "import warnings\n",
    "from datetime import datetime,timedelta,date\n",
    "#import pandas_market_calendars as mcal\n",
    "import dtale\n",
    "import QuantLib as ql\n",
    "\n",
    "import plotly\n",
    "import plotly.graph_objects as go\n",
    "from plotly.subplots import make_subplots\n",
    "import plotly.express as px\n",
    "import plotly.figure_factory as ff\n",
    "\n",
    "from ib_insync.contract import * \n",
    "from ib_insync import *\n",
    "import utils\n",
    "from fpdf import FPDF\n",
    "\n",
    "warnings.filterwarnings('ignore')\n",
    "pd.set_option('max.rows',5000)\n",
    "pd.set_option('max.columns',150)\n",
    "\n",
    "# tlg = '/Users/david/Downloads/U3913547_20200424_20210310.tlg'\n",
    "tlg = '/Users/david/Downloads/trade_log.tlg'\n",
    "# tlg = '/Users/david/Downloads/osap_account.tlg'\n",
    "# tlg = '/Users/david/Downloads/U3913547_20200424_20210325.tlg'\n",
    "# ofx_file = '/Users/david/Downloads/U3913547_20210101_20210304.qfx'"
   ]
  },
  {
   "cell_type": "code",
   "execution_count": null,
   "metadata": {},
   "outputs": [],
   "source": []
  },
  {
   "cell_type": "code",
   "execution_count": 12,
   "metadata": {},
   "outputs": [
    {
     "name": "stdout",
     "output_type": "stream",
     "text": [
      "Connection Accepted through TWS\n"
     ]
    }
   ],
   "source": [
    "#Start connection with TWS or IB Gateway open\n",
    "util.startLoop()  # uncomment this line when in a notebook\n",
    "\n",
    "ib = IB()\n",
    "try:\n",
    "    #TWS Connection Live\n",
    "    ib.connect('127.0.0.1', 7497, clientId=1)\n",
    "    #ib.setCallback('error', onError)\n",
    "    print('Connection Accepted through TWS')\n",
    "except:\n",
    "    #IB Gateway connection\n",
    "    ib.connect('127.0.0.1', 4001, clientId=1)\n",
    "    print('Connection Accepted through Gateway')\n",
    "    pass"
   ]
  },
  {
   "cell_type": "code",
   "execution_count": 24,
   "metadata": {},
   "outputs": [],
   "source": [
    "def hour_rounder(t):\n",
    "    # Rounds to nearest hour by adding a timedelta hour if minute >= 30\n",
    "    return (t.replace(second=0, microsecond=0, minute=0, hour=t.hour)\n",
    "               +timedelta(hours=t.minute//30))\n",
    "\n",
    "def ql_to_datetime(d):\n",
    "    return datetime(d.year(), d.month(), d.dayOfMonth())\n",
    "\n",
    "def onError(reqId, errorCode, errorString, contract):\n",
    "    print(\"ERROR\", reqId, errorCode, errorString)\n",
    "    if errorCode == 200 and errorString == 'No security definition has been found for the request':\n",
    "        print(\"Bad contract\")\n",
    "        pass\n",
    "    elif errorCode == 1102:\n",
    "        print(\"Restarting after outage\")\n",
    "        main()"
   ]
  },
  {
   "cell_type": "code",
   "execution_count": 25,
   "metadata": {},
   "outputs": [],
   "source": [
    "def parse_tlg(file):\n",
    "    \n",
    "    #Reads in file and parses to dataframe\n",
    "    log = pd.read_csv(file,sep='delimiter', header=None,engine='python')\n",
    "    log = log[0].str.split('|',expand=True)\n",
    "    log = log.fillna(value=np.nan)\n",
    "    \n",
    "    #Variables\n",
    "    headers = []\n",
    "    headers_index = sorted([len(log)])\n",
    "    dfs = {}\n",
    "    previous_index = 0\n",
    "    count=0\n",
    "    \n",
    "    #Iterates through df rows\n",
    "    for line in range(0,len(log)):\n",
    "        \n",
    "        #Indexes by titles\n",
    "        #TODO probably a better way to do this than by > 7. Fix later...maybe\n",
    "        if len(log[0].iloc[line]) > 7:\n",
    "            \n",
    "            #Creates header name and index \n",
    "            header = log[0].iloc[line]\n",
    "            header_index = log.index.get_loc(line)\n",
    "            \n",
    "            \n",
    "            #Stores header name and index  to list \n",
    "            headers.append(header)\n",
    "            headers_index.append(header_index)\n",
    "            \n",
    "            #appends multiple dataframes for each category header to dict for output\n",
    "        previous_index = header_index\n",
    "        headers_index = sorted(headers_index)\n",
    "        \n",
    "        \n",
    "    for header in headers:\n",
    "        index1 = headers_index[count]\n",
    "        index2 = headers_index[count+1]\n",
    "        dfs[header] = log.iloc[index1:index2]\n",
    "        \n",
    "        count += 1\n",
    "        \n",
    "        \n",
    "    #Column Transformations to output proper format\n",
    "    dfs['OPTION_TRANSACTIONS']['symbol'] = dfs['OPTION_TRANSACTIONS'][2].str.split(' ').str[0]\n",
    "    dfs['OPTION_TRANSACTIONS'].columns = ['option_txs','fitid','option_ticker','opt_description',\n",
    "                                          'exchange','optselltype','buy_sell_type','date','time',\n",
    "                                          'currency','units','100','unit_price',\n",
    "                                          'total_price','commission','currate','symbol'\n",
    "                                         ]\n",
    "    \n",
    "    dfs['OPTION_TRANSACTIONS']['buy_sell_type'] = dfs['OPTION_TRANSACTIONS']['buy_sell_type'].str.split(';').str[0]\n",
    "    \n",
    "    dfs['OPTION_TRANSACTIONS']['strike'] = dfs['OPTION_TRANSACTIONS']['opt_description'].str.split(' ').str[2]\n",
    "    dfs['OPTION_TRANSACTIONS']['opt_type']  = dfs['OPTION_TRANSACTIONS']['opt_description'].str.split(' ').str[-1]\n",
    "    dfs['OPTION_TRANSACTIONS']['expiration'] = dfs['OPTION_TRANSACTIONS']['option_ticker'].str.split(' ').str[-1].str.split('C').str[0].str.split('P').str[0]\n",
    "    dfs['OPTION_TRANSACTIONS'] = dfs['OPTION_TRANSACTIONS'].iloc[1:]\n",
    "    dfs['OPTION_TRANSACTIONS']['date_time'] = dfs['OPTION_TRANSACTIONS']['date']+' '+dfs['OPTION_TRANSACTIONS']['time']\n",
    "    pd.to_datetime(dfs['OPTION_TRANSACTIONS']['date_time'],format='%Y%m%d %H:%M:%S')\n",
    "    dfs['OPTION_TRANSACTIONS']['date_time'] = dfs['OPTION_TRANSACTIONS']['date_time'].apply(lambda x: pd.to_datetime(x).strftime('%Y-%m-%d %H:%M:%S'))\n",
    "    \n",
    "    return dfs"
   ]
  },
  {
   "cell_type": "code",
   "execution_count": 26,
   "metadata": {},
   "outputs": [],
   "source": [
    "# tt =dr.DataReader(\"AAPL\", \"av-intraday\", \n",
    "#                start='2021-01-01',\n",
    "#                end='2021-04-01',\n",
    "#                api_key='9SV5T3LUBDMD729S')"
   ]
  },
  {
   "cell_type": "code",
   "execution_count": 27,
   "metadata": {},
   "outputs": [],
   "source": [
    "# tt.index = tt.index.astype('datetime64[ns]')"
   ]
  },
  {
   "cell_type": "code",
   "execution_count": 28,
   "metadata": {},
   "outputs": [],
   "source": [
    "# tt[tt.index.minute ==0]"
   ]
  },
  {
   "cell_type": "code",
   "execution_count": 29,
   "metadata": {},
   "outputs": [],
   "source": [
    "# import yfinance as yf\n",
    "# data = yf.download(\"AAPL\", start=\"2020-01-01\", end=\"2021-01-01\",interval='1H')"
   ]
  },
  {
   "cell_type": "code",
   "execution_count": 30,
   "metadata": {},
   "outputs": [],
   "source": [
    "def position_data (ticker,opt_tx,engine='ibkr'):\n",
    "    if engine == 'ibkr':\n",
    "        return get_ibkr_data(ticker,opt_tx)\n",
    "    elif engine == 'av':\n",
    "        return\n",
    "        \n",
    "        "
   ]
  },
  {
   "cell_type": "code",
   "execution_count": 31,
   "metadata": {
    "scrolled": true
   },
   "outputs": [],
   "source": [
    "def get_ibkr_data(ticker,opt_tx):\n",
    "    '''\n",
    "    Returns df, txs, ticker\n",
    "    '''\n",
    "    \n",
    "    txs = opt_tx[opt_tx['symbol'] == ticker]\n",
    "    txs['date'] = pd.to_datetime(txs['date'],format='%Y%m%d')\n",
    "\n",
    "\n",
    "    #Convert Expiration to DT\n",
    "    txs['expiration'] = pd.to_datetime(txs['expiration'],yearfirst=True)\n",
    "    txs['date_time'] = txs['date_time'].apply(lambda x: hour_rounder(pd.to_datetime(x))).astype('datetime64[ns]')\n",
    "    txs['units'] = txs['units'].astype('float64')\n",
    "\n",
    "    expir_date = txs['expiration'].max()\n",
    "    currency = txs['currency'].iloc[0]\n",
    "    start_date = txs['date'].min()\n",
    "    days = expir_date - start_date\n",
    "    today = datetime.today()\n",
    "\n",
    "    if today > expir_date:\n",
    "        days = (today-start_date) + timedelta(60)\n",
    "\n",
    "\n",
    "     ####### Retrieve Data from IBKR ##########   \n",
    "    contract = Stock(symbol=ticker,exchange='SMART',currency=currency)\n",
    "    ib.reqContractDetails(contract)\n",
    "\n",
    "    if days.days < 365:\n",
    "        dur_str = f\"{days.days} D\"\n",
    "\n",
    "    elif days.days >= 365:\n",
    "        dur_str = f\"{math.ceil(days.days/365)} Y\"\n",
    "\n",
    "\n",
    "#     ib.setCallback('error', onError)\n",
    "    \n",
    "    bars = ib.reqHistoricalData(contract,durationStr=dur_str,endDateTime=expir_date,\n",
    "                                    barSizeSetting='1 hour',whatToShow='TRADES',useRTH=False)\n",
    "\n",
    "    if util.df(bars).empty:\n",
    "        contract = Stock(symbol=ticker,exchange='NASDAQ',currency=currency)\n",
    "        bars = ib.reqHistoricalData(contract,durationStr=dur_str,endDateTime=expir_date,\n",
    "                                    barSizeSetting='1 hour',whatToShow='TRADES',useRTH=False)\n",
    "        if util.df(bars) == None:\n",
    "            contract = Stock(symbol=ticker,exchange='NYSE',currency=currency)\n",
    "            bars = ib.reqHistoricalData(contract,durationStr=dur_str,endDateTime=expir_date,\n",
    "                                        barSizeSetting='1 hour',whatToShow='TRADES',useRTH=False)\n",
    "   \n",
    "    df = util.df(bars)\n",
    "    df = df.rename(columns={'date':'date_time'})\n",
    "\n",
    "    txs = pd.merge(txs,df[['date_time','open','close']],on='date_time', how='left')\n",
    "    df = df[df['date_time'] >=txs['date_time'].min()-timedelta(60)]\n",
    "        \n",
    "    return df,txs, ticker "
   ]
  },
  {
   "cell_type": "code",
   "execution_count": 32,
   "metadata": {},
   "outputs": [],
   "source": [
    "def graph(df,mask,ticker):\n",
    "    '''\n",
    "    Returns Plotly figure if passed a df containing 1 tickers transactions\n",
    "    '''\n",
    "    # standardize column names & create buy/sell dataframes\n",
    "    df.columns = df.columns.str.lower()\n",
    "    buys = mask[mask['units']>0]\n",
    "    sells = mask[mask['units']<0]\n",
    "    \n",
    "    fig = make_subplots(rows=2, cols=1,specs=[[{\"secondary_y\": True}],\n",
    "                                              [{\"secondary_y\": True}]])\n",
    "    \n",
    "    fig.add_trace(go.Candlestick(x=df['date_time'],\n",
    "               open=df['open'], \n",
    "               high=df['high'],\n",
    "               low=df['low'], \n",
    "               close=df['close'],\n",
    "               yaxis='y2',\n",
    "               whiskerwidth=.5,\n",
    "               name='OHLC',\n",
    "               line=dict(width=1),\n",
    "               increasing={'line': {'width': 1}},\n",
    "               decreasing={'line': {'width': 1}})\n",
    "\n",
    "             ),\n",
    "\n",
    "    fig.add_trace(go.Scatter(\n",
    "                    x=sells['date_time'],\n",
    "                    y=sells['open']*1.02,\n",
    "                    mode='markers',\n",
    "                    name='Sell',\n",
    "                    marker_symbol='triangle-down',\n",
    "                    yaxis='y2',\n",
    "                    marker=dict(\n",
    "                         color='red',\n",
    "                         size=14,\n",
    "                         line=dict(\n",
    "                            color='DarkSlateGrey',\n",
    "                            width=1)))\n",
    "                 ),\n",
    "    \n",
    "    fig.add_trace(go.Scatter(\n",
    "                    x=buys['date_time'],\n",
    "                    y=buys['close']*.98,\n",
    "                    mode='markers',\n",
    "                    name='Buy',\n",
    "                    marker_symbol='triangle-up',\n",
    "                    yaxis='y2',\n",
    "                    marker=dict(\n",
    "                         color='green',\n",
    "                         size=14,\n",
    "                         line=dict(\n",
    "                            color='DarkSlateGrey',\n",
    "                            width=1)))),\n",
    "\n",
    "\n",
    "    fig.update_layout(xaxis=dict(tickformat='%b-%y',rangebreaks=[\n",
    "                                                                 dict(bounds=[\"sat\", \"mon\"]),\n",
    "#                                                                  dict(values=holidays_list),\n",
    "                                                                 dict(bounds=[17, 9], pattern=\"hour\")\n",
    "                                                                ]),\n",
    "                      xaxis_rangeslider_visible=True,\n",
    "                      height=800,width=1400,\n",
    "                      hoverdistance=0,hovermode='y',title=f\"{ticker} - Total PNL: ${-mask['total_price'].astype('float64').sum()}\")\n",
    "    \n",
    "\n",
    "    return fig"
   ]
  },
  {
   "cell_type": "code",
   "execution_count": 34,
   "metadata": {},
   "outputs": [],
   "source": [
    "def holidays(dates):\n",
    "\n",
    "    start = pd.Timestamp(dates[0],tz=None)\n",
    "    end = pd.Timestamp(dates.iloc[-1],tz=None)\n",
    "\n",
    "    calendar = ql.UnitedStates()\n",
    "    holidays = calendar.holidayList(ql.Date(start.day, start.month, start.year),\n",
    "                         ql.Date(end.day, end.month, end.year))\n",
    "    holidays = [ql_to_datetime(x) for x in holidays]\n",
    "    \n",
    "    holidays_list = []\n",
    "\n",
    "    for each_date in holidays:\n",
    "        for i in range(0,24):\n",
    "            ts = each_date + timedelta(hours=i)\n",
    "            holidays_list.append(pd.Timestamp(np.datetime64(ts)).strftime('%Y-%m-%d %H:%M:%S'))\n",
    "    return holidays_list"
   ]
  },
  {
   "cell_type": "code",
   "execution_count": 35,
   "metadata": {},
   "outputs": [],
   "source": [
    "def datatable(txs):\n",
    "    '''\n",
    "    Returns a plotly datatable figure when feed a txs dataframe\n",
    "    '''\n",
    "    \n",
    "    tx_columns = txs[['date','time','opt_description','optselltype',\n",
    "                      'exchange','unit_price','units','total_price','currency','currate','commission']]\n",
    "    #Need to multiply by -1 to make total more intuitive\n",
    "    tx_columns['total_price'] = tx_columns['total_price'].astype('float64')\n",
    "    tx_columns['total_price'] = tx_columns['total_price']*-1\n",
    "    tx_columns['date'] = tx_columns['date'].dt.date\n",
    "    tx_columns = tx_columns.sort_values(['date','time'])\n",
    "\n",
    "    fig = go.Figure(data=[go.Table(columnwidth = [12,8,13,11,11,9,5,10,8,8,10],\n",
    "                                   header=dict(values=list(tx_columns.columns)),\n",
    "                                   cells=dict(values=tx_columns.T,height=50))])\n",
    "    fig.update_layout(width=1200)\n",
    "\n",
    "    return fig"
   ]
  },
  {
   "cell_type": "code",
   "execution_count": 36,
   "metadata": {},
   "outputs": [],
   "source": [
    "def ticker_data(opt_tx):\n",
    "    '''\n",
    "    Returns ticker dict and missing tickers list \n",
    "    '''\n",
    "    ticker_dict ={}\n",
    "    missing_tickers = list()\n",
    "\n",
    "    for symbol in tqdm(opt_tx['symbol'].unique()): \n",
    "        try:\n",
    "            df, txs, symbol = get_ibkr_data(ticker,opt_tx)\n",
    "            ticker_dict[ticker] = dict(ohlc=df,txs=txs)\n",
    "\n",
    "        except:\n",
    "            pass\n",
    "            missing_tickers.append(str(ticker))\n",
    "            \n",
    "    print(f\"Missing tickers include {missing_tickers}\")\n",
    "        \n",
    "    return ticker_dict, missing_tickers\n"
   ]
  },
  {
   "cell_type": "code",
   "execution_count": 20,
   "metadata": {},
   "outputs": [],
   "source": [
    "#Create folder for chart plots in current directory \n",
    "def save_plots(ticker_dict):\n",
    "    '''\n",
    "    Saves plots to current working directory\n",
    "    '''\n",
    "\n",
    "    try:\n",
    "        os.mkdir('charts')\n",
    "        os.mkdir('tables')\n",
    "    except:\n",
    "        pass\n",
    "    charts_path = os.getcwd()+\"/\"+\"charts/\"\n",
    "    table_path = os.getcwd()+\"/\"+\"tables/\"\n",
    "\n",
    "    for ticker, v in tqdm(ticker_dict.items()):\n",
    "        graph(ticker_dict[ticker]['ohlc'],\n",
    "              ticker_dict[ticker]['txs'],\n",
    "              ticker).write_image(f\"charts/{ticker}.png\",format='png')\n",
    "        datatable(ticker_dict[ticker]['txs']).write_image(f\"tables/{ticker}.png\",format='png')\n",
    "    "
   ]
  },
  {
   "cell_type": "code",
   "execution_count": 37,
   "metadata": {
    "scrolled": true
   },
   "outputs": [],
   "source": [
    "dfs = parse_tlg(tlg)\n",
    "opt_tx = dfs['OPTION_TRANSACTIONS']"
   ]
  },
  {
   "cell_type": "code",
   "execution_count": 38,
   "metadata": {},
   "outputs": [
    {
     "name": "stderr",
     "output_type": "stream",
     "text": [
      "100%|██████████| 20/20 [00:00<00:00, 190.24it/s]"
     ]
    },
    {
     "name": "stdout",
     "output_type": "stream",
     "text": [
      "Missing tickers include ['BBD', 'AA', 'AAPL', 'AMC', 'BB', 'BLDP', 'BLNK', 'BTAQ', 'CHPT', 'DXC', 'GS', 'LRCX', 'OLN', 'OPAD', 'QQQ', 'SCR', 'SPY', 'TDOC', 'UBER', 'VLDR']\n"
     ]
    },
    {
     "name": "stderr",
     "output_type": "stream",
     "text": [
      "\n"
     ]
    }
   ],
   "source": [
    "ticker_dict, missing_tickers = ticker_data(opt_tx)"
   ]
  },
  {
   "cell_type": "code",
   "execution_count": 29,
   "metadata": {},
   "outputs": [
    {
     "name": "stderr",
     "output_type": "stream",
     "text": [
      "100%|███████████████████████████████████████████| 18/18 [00:09<00:00,  1.96it/s]\n"
     ]
    }
   ],
   "source": [
    "save_plots(ticker_dict)"
   ]
  },
  {
   "cell_type": "code",
   "execution_count": 30,
   "metadata": {},
   "outputs": [],
   "source": [
    "class PDF(FPDF):\n",
    "    def lines(self):\n",
    "        self.set_line_width(0.0)\n",
    "        self.line(5.0,5.0,205.0,5.0) # top one\n",
    "        self.line(5.0,292.0,205.0,292.0) # bottom one\n",
    "        self.line(5.0,5.0,5.0,292.0) # left one\n",
    "        self.line(205.0,5.0,205.0,292.0) # right one\n",
    "    def add_plot(self,image_path):\n",
    "        pdf.image(image_path, x=20, y=8, w=170, h = 100)\n",
    "        pdf.set_font(\"Arial\", size=12)\n",
    "        pdf.ln(85)  # move 85 down\n",
    "        pdf.cell(160, 10, ln=1)\n",
    "    def add_table(self,image_path):\n",
    "        pdf.image(image_path, x=10, y=100, w=190, h = 80)\n",
    "        pdf.set_font(\"Arial\", size=12)\n",
    "        pdf.ln(85)  # move 85 downs\n",
    "#         pdf.cell(200, 10, ln=1)\n",
    "    def notes(self):\n",
    "        self.set_line_width(0.5)\n",
    "        self.rect(x=10.0, y=200.0, w=190.0,h=90.0)"
   ]
  },
  {
   "cell_type": "code",
   "execution_count": 31,
   "metadata": {},
   "outputs": [
    {
     "name": "stderr",
     "output_type": "stream",
     "text": [
      "  0%|                                                    | 0/18 [00:00<?, ?it/s]"
     ]
    },
    {
     "name": "stdout",
     "output_type": "stream",
     "text": [
      "AA\n"
     ]
    },
    {
     "name": "stderr",
     "output_type": "stream",
     "text": [
      "  6%|██▍                                         | 1/18 [00:03<00:53,  3.17s/it]"
     ]
    },
    {
     "name": "stdout",
     "output_type": "stream",
     "text": [
      "AAPL\n"
     ]
    },
    {
     "name": "stderr",
     "output_type": "stream",
     "text": [
      " 11%|████▉                                       | 2/18 [00:06<00:49,  3.09s/it]"
     ]
    },
    {
     "name": "stdout",
     "output_type": "stream",
     "text": [
      "AMC\n"
     ]
    },
    {
     "name": "stderr",
     "output_type": "stream",
     "text": [
      " 17%|███████▎                                    | 3/18 [00:09<00:47,  3.18s/it]"
     ]
    },
    {
     "name": "stdout",
     "output_type": "stream",
     "text": [
      "BB\n"
     ]
    },
    {
     "name": "stderr",
     "output_type": "stream",
     "text": [
      " 22%|█████████▊                                  | 4/18 [00:12<00:43,  3.13s/it]"
     ]
    },
    {
     "name": "stdout",
     "output_type": "stream",
     "text": [
      "BLDP\n"
     ]
    },
    {
     "name": "stderr",
     "output_type": "stream",
     "text": [
      " 28%|████████████▏                               | 5/18 [00:15<00:40,  3.09s/it]"
     ]
    },
    {
     "name": "stdout",
     "output_type": "stream",
     "text": [
      "BLNK\n"
     ]
    },
    {
     "name": "stderr",
     "output_type": "stream",
     "text": [
      " 33%|██████████████▋                             | 6/18 [00:18<00:36,  3.08s/it]"
     ]
    },
    {
     "name": "stdout",
     "output_type": "stream",
     "text": [
      "BTAQ\n"
     ]
    },
    {
     "name": "stderr",
     "output_type": "stream",
     "text": [
      " 39%|█████████████████                           | 7/18 [00:21<00:33,  3.06s/it]"
     ]
    },
    {
     "name": "stdout",
     "output_type": "stream",
     "text": [
      "CHPT\n"
     ]
    },
    {
     "name": "stderr",
     "output_type": "stream",
     "text": [
      " 44%|███████████████████▌                        | 8/18 [00:24<00:30,  3.05s/it]"
     ]
    },
    {
     "name": "stdout",
     "output_type": "stream",
     "text": [
      "DXC\n"
     ]
    },
    {
     "name": "stderr",
     "output_type": "stream",
     "text": [
      " 50%|██████████████████████                      | 9/18 [00:28<00:28,  3.15s/it]"
     ]
    },
    {
     "name": "stdout",
     "output_type": "stream",
     "text": [
      "GS\n"
     ]
    },
    {
     "name": "stderr",
     "output_type": "stream",
     "text": [
      " 56%|███████████████████████▉                   | 10/18 [00:31<00:25,  3.22s/it]"
     ]
    },
    {
     "name": "stdout",
     "output_type": "stream",
     "text": [
      "LRCX\n"
     ]
    },
    {
     "name": "stderr",
     "output_type": "stream",
     "text": [
      " 61%|██████████████████████████▎                | 11/18 [00:34<00:22,  3.18s/it]"
     ]
    },
    {
     "name": "stdout",
     "output_type": "stream",
     "text": [
      "OLN\n"
     ]
    },
    {
     "name": "stderr",
     "output_type": "stream",
     "text": [
      " 67%|████████████████████████████▋              | 12/18 [00:37<00:18,  3.16s/it]"
     ]
    },
    {
     "name": "stdout",
     "output_type": "stream",
     "text": [
      "OPAD\n"
     ]
    },
    {
     "name": "stderr",
     "output_type": "stream",
     "text": [
      " 72%|███████████████████████████████            | 13/18 [00:40<00:15,  3.16s/it]"
     ]
    },
    {
     "name": "stdout",
     "output_type": "stream",
     "text": [
      "QQQ\n"
     ]
    },
    {
     "name": "stderr",
     "output_type": "stream",
     "text": [
      " 78%|█████████████████████████████████▍         | 14/18 [00:43<00:12,  3.13s/it]"
     ]
    },
    {
     "name": "stdout",
     "output_type": "stream",
     "text": [
      "SPY\n"
     ]
    },
    {
     "name": "stderr",
     "output_type": "stream",
     "text": [
      " 83%|███████████████████████████████████▊       | 15/18 [00:46<00:09,  3.10s/it]"
     ]
    },
    {
     "name": "stdout",
     "output_type": "stream",
     "text": [
      "TDOC\n"
     ]
    },
    {
     "name": "stderr",
     "output_type": "stream",
     "text": [
      " 89%|██████████████████████████████████████▏    | 16/18 [00:49<00:06,  3.07s/it]"
     ]
    },
    {
     "name": "stdout",
     "output_type": "stream",
     "text": [
      "UBER\n"
     ]
    },
    {
     "name": "stderr",
     "output_type": "stream",
     "text": [
      " 94%|████████████████████████████████████████▌  | 17/18 [00:52<00:03,  3.07s/it]"
     ]
    },
    {
     "name": "stdout",
     "output_type": "stream",
     "text": [
      "VLDR\n"
     ]
    },
    {
     "name": "stderr",
     "output_type": "stream",
     "text": [
      "100%|███████████████████████████████████████████| 18/18 [00:55<00:00,  3.11s/it]\n"
     ]
    },
    {
     "data": {
      "text/plain": [
       "''"
      ]
     },
     "execution_count": 31,
     "metadata": {},
     "output_type": "execute_result"
    }
   ],
   "source": [
    "pdf = PDF(orientation='P', unit='mm', format='A4')\n",
    "tickers = [ticker for ticker,v in ticker_dict.items()]\n",
    "\n",
    "for ticker in tqdm(tickers):\n",
    "    print(ticker)\n",
    "    pdf.add_page()\n",
    "    pdf.lines()\n",
    "    pdf.notes()\n",
    "    pdf.add_plot(os.getcwd()+'/'+f\"charts/{ticker}.png\")\n",
    "    pdf.add_table(os.getcwd()+'/'+f\"tables/{ticker}.png\")\n",
    "    \n",
    "pdf.output('/Users/david/Documents/Updated_Trades_Oct7.pdf','F')"
   ]
  },
  {
   "cell_type": "code",
   "execution_count": null,
   "metadata": {},
   "outputs": [],
   "source": []
  },
  {
   "cell_type": "code",
   "execution_count": null,
   "metadata": {},
   "outputs": [],
   "source": [
    "pdf_w=210\n",
    "pdf_h=297\n",
    "\n",
    "class PDF(FPDF):\n",
    "    def lines(self):\n",
    "        self.set_line_width(0.0)\n",
    "        self.line(5.0,5.0,205.0,5.0) # top one\n",
    "        self.line(5.0,292.0,205.0,292.0) # bottom one\n",
    "        self.line(5.0,5.0,5.0,292.0) # left one\n",
    "        self.line(205.0,5.0,205.0,292.0) # right one\n",
    "    def notes(self):\n",
    "        self.set_line_width(0.5)\n",
    "        self.rect(10.0, 190.0, 190.0,110.0)\n",
    "    def add_image(self,image_path):\n",
    "        pdf.image(image_path, x=10, y=8, w=150, h = 100)\n",
    "        pdf.set_font(\"Arial\", size=12)\n",
    "        pdf.ln(85)  # move 85 down\n",
    "        pdf.cell(200, 10, ln=1)\n",
    "        \n",
    "pdf = PDF(orientation='P', unit='mm', format='A4')\n",
    "\n",
    "pdf.add_page()\n",
    "# pdf.lines()\n",
    "pdf.notes()\n",
    "    \n",
    "pdf.output('/Users/david/Documents/test2.pdf','F')"
   ]
  },
  {
   "cell_type": "markdown",
   "metadata": {},
   "source": [
    "<H1> Ticker lookup\n",
    "    "
   ]
  },
  {
   "cell_type": "code",
   "execution_count": null,
   "metadata": {},
   "outputs": [],
   "source": [
    "ticker = 'AAPL'"
   ]
  },
  {
   "cell_type": "code",
   "execution_count": null,
   "metadata": {},
   "outputs": [],
   "source": [
    "\n",
    "mask = opt_tx[opt_tx['symbol'] == ticker]\n",
    "mask['date'] = pd.to_datetime(mask['date'],format='%Y%m%d')\n",
    "\n",
    "\n",
    "#Convert Expiration to DT\n",
    "mask['expiration'] = pd.to_datetime(mask['expiration'],yearfirst=True)\n",
    "mask['date_time'] = mask['date_time'].apply(lambda x: hour_rounder(pd.to_datetime(x))).astype('datetime64[ns]')\n",
    "mask['units'] = mask['units'].astype('float64')\n",
    "\n",
    "expir_date = mask['expiration'].max()\n",
    "currency = mask['currency'].iloc[0]\n",
    "start_date = mask['date'].min()\n",
    "days = expir_date - start_date\n",
    "today = datetime.today()\n",
    "\n",
    "if today > expir_date:\n",
    "    days = (today-start_date) + timedelta(60)\n",
    "    print('Expired')\n",
    "    \n",
    "\n",
    "\n",
    "\n",
    "# # print(expir_date,'\\n',f\"{currency}\\n\",f'{start_date}\\n',days)\n",
    "# print(days)\n"
   ]
  },
  {
   "cell_type": "code",
   "execution_count": null,
   "metadata": {},
   "outputs": [],
   "source": [
    "# Insert symbol and currency\n",
    "contract = Stock(symbol=ticker,exchange='SMART',currency=currency)\n",
    "ib.reqContractDetails(contract)\n",
    "\n",
    "if days.days < 365:\n",
    "    dur_str = f\"{days.days} D\"\n",
    "    \n",
    "elif days.days >= 365:\n",
    "    dur_str = f\"{math.ceil(days.days/365)} Y\"\n",
    "    \n",
    "\n",
    "bars = ib.reqHistoricalData(contract,durationStr=dur_str,endDateTime=expir_date,\n",
    "                            barSizeSetting='1 hour',whatToShow='TRADES',useRTH=False)\n",
    "\n",
    "df = util.df(bars)\n",
    "df = df.rename(columns={'date':'date_time'})\n",
    "\n",
    "mask = pd.merge(mask,df[['date_time','open','close']],on='date_time', how='left')"
   ]
  },
  {
   "cell_type": "code",
   "execution_count": null,
   "metadata": {},
   "outputs": [],
   "source": [
    "plot_ticker(df,mask,ticker)"
   ]
  },
  {
   "cell_type": "code",
   "execution_count": null,
   "metadata": {},
   "outputs": [],
   "source": [
    "plot_positions('AAPL',opt_tx)    "
   ]
  },
  {
   "cell_type": "code",
   "execution_count": null,
   "metadata": {},
   "outputs": [],
   "source": [
    "import mplfinance as mpf\n",
    "setup = dict(type='ohlc')\n",
    "# df = df.set_index('date_time')\n",
    "mpf.plot(df,style='charles',**setup,figscale=2)"
   ]
  },
  {
   "cell_type": "markdown",
   "metadata": {},
   "source": [
    "<H2> OFX File Parse"
   ]
  },
  {
   "cell_type": "code",
   "execution_count": null,
   "metadata": {},
   "outputs": [],
   "source": [
    "contract = ib.reqContractDetails(Contract(symbol=conId[0],secType='OPT',lastTradeDateOrContractMonth=, strike, right))[0]"
   ]
  },
  {
   "cell_type": "code",
   "execution_count": null,
   "metadata": {},
   "outputs": [],
   "source": [
    "file = '/Users/david/Downloads/U3913547_20210101_20210224.ofx'\n",
    "\n",
    "from ofxtools.Parser import OFXTree\n",
    "import ofxtools\n",
    "import xml\n",
    "parser = OFXTree()\n",
    "with open(file, 'rb') as f: # N.B. need to open file in binary\n",
    "\n",
    "    parser.parse(f)\n",
    "parser.parse(file) # Can also use filename directly\n",
    "type(parser._root)"
   ]
  },
  {
   "cell_type": "code",
   "execution_count": null,
   "metadata": {},
   "outputs": [],
   "source": [
    "\n",
    "stmts = ofx.statements  # All {``STMTRS``, ``CCSTMTRS``, ``INVSTMTRS``} in the response\n",
    "txs = stmts[0].transactions  # The relevant ``*TRANLIST``\n",
    "acct = stmts[0].account  # The relevant ``*ACCTFROM``\n",
    "balances = stmts[0].balances  # ``INVBAL`` - use ``balance`` for bank statement ``LEDGERBAL``\n",
    "securities = ofx.securities"
   ]
  },
  {
   "cell_type": "code",
   "execution_count": null,
   "metadata": {},
   "outputs": [],
   "source": [
    "columns = ['tx_type','fitid','dttrade',\n",
    "           'secid_uniqueid','secid_uniqueidtype','units', \n",
    "           'unit_price', 'commission', 'total', 'currency_rate',\n",
    "           'subacctsec', 'subacctfund', 'optselltype'\n",
    "          ]\n",
    "\n",
    "options_df = pd.DataFrame.from_records(options,columns=columns)"
   ]
  },
  {
   "cell_type": "code",
   "execution_count": null,
   "metadata": {},
   "outputs": [],
   "source": [
    "options = []\n",
    "stocks = []\n",
    "\n",
    "for tx in txs:\n",
    "    tx_type = str(tx.__repr__).split('(')[0].split('<')[2]\n",
    "    print(tx_type)\n",
    "    if tx_type == 'SELLOPT':\n",
    "        options.append([tx_type,tx.invtran.fitid,tx.invtran.dttrade,\n",
    "                       tx.secid.uniqueid,tx.secid.uniqueidtype,\n",
    "                       tx.units, tx.unitprice, tx.commission, tx.total, tx.currency.currate,\n",
    "                       tx.subacctsec, tx.subacctfund, tx.optselltype])\n",
    "        \n",
    "        print(tx_type)\n",
    "        print(tx.invtran.fitid)\n",
    "        print(tx.invtran.dttrade)\n",
    "        print(tx.secid.uniqueid)\n",
    "        print(tx.secid.uniqueidtype)\n",
    "        print(tx.secid.uniqueid)\n",
    "        print(tx.units)\n",
    "        print(tx.unitprice)\n",
    "        print(tx.commission)\n",
    "        print(tx.total)\n",
    "        print(tx.currency.currate)\n",
    "        print(tx.currency.cursym)\n",
    "        print(tx.subacctsec)\n",
    "        print(tx.subacctfund)\n",
    "        print(tx.optselltype)\n",
    "        \n",
    "        \n",
    "    elif tx_type == 'BUYOPT':\n",
    "        options.append([tx_type,tx.invtran.fitid,tx.invtran.dttrade,\n",
    "                       tx.secid.uniqueid,tx.secid.uniqueidtype,\n",
    "                       tx.units, tx.unitprice, tx.commission, tx.total, tx.currency.currate,\n",
    "                       tx.subacctsec, tx.subacctfund, tx.optbuytype])\n",
    "        '''\n",
    "        print(tx_type)\n",
    "        print(tx.invtran.fitid)\n",
    "        print(tx.invtran.dttrade)\n",
    "        print(tx.secid.uniqueid)\n",
    "        print(tx.secid.uniqueidtype)\n",
    "        print(tx.units)\n",
    "        print(tx.unitprice)\n",
    "        print(tx.commission)\n",
    "        print(tx.total)\n",
    "        print(tx.currency.currate)\n",
    "        print(tx.currency.cursym)\n",
    "        print(tx.subacctsec)\n",
    "        print(tx.subacctfund)\n",
    "        print(tx.optbuytype)\n",
    "        '''\n",
    "        \n",
    "        '''\n",
    "        \n",
    "    elif tx_type == 'BUYSTOCK':\n",
    "        print(tx_type)\n",
    "        print(tx.invtran.fitid)\n",
    "        print(tx.invtran.dttrade)\n",
    "        print(tx.secid.uniqueid)\n",
    "        print(tx.secid.uniqueidtype)\n",
    "        print(tx.units)\n",
    "        print(tx.unitprice)\n",
    "        print(tx.commission)\n",
    "        print(tx.total)\n",
    "        print(tx.currency.currate)\n",
    "        print(tx.currency.cursym)\n",
    "        print(tx.subacctsec)\n",
    "        print(tx.subacctfund)\n",
    "\n",
    "'''"
   ]
  },
  {
   "cell_type": "code",
   "execution_count": null,
   "metadata": {},
   "outputs": [],
   "source": [
    "options_df"
   ]
  },
  {
   "cell_type": "code",
   "execution_count": null,
   "metadata": {},
   "outputs": [],
   "source": [
    "rows = []\n",
    "\n",
    "\n",
    "for i in range(0,len(options_df)):\n",
    "    \n",
    "    conId = options_df['secid_uniqueid'][i]\n",
    "    \n",
    "    \n",
    "    try :\n",
    "        contract = ib.reqContractDetails(Contract(conId=conId))[0]\n",
    "        options_df['contract_details'].iloc[i] = ib.reqContractDetails(Contract(conId=conId))[0].contract\n",
    "        options_df['symbol'].iloc[i] = ib.reqContractDetails(Contract(conId=conId))[0].contract.symbol\n",
    "    except:\n",
    "        pass\n",
    "\n",
    "options_df['contract_details'] = rows"
   ]
  },
  {
   "cell_type": "code",
   "execution_count": null,
   "metadata": {},
   "outputs": [],
   "source": [
    "options_df"
   ]
  },
  {
   "cell_type": "code",
   "execution_count": null,
   "metadata": {},
   "outputs": [],
   "source": [
    "options_df['symbol'] = options_df['contract_details']['symbol']"
   ]
  },
  {
   "cell_type": "code",
   "execution_count": 34,
   "metadata": {},
   "outputs": [],
   "source": [
    "file = '/Users/david/Downloads/tl1.tlg'\n",
    "\n",
    "#Reads in file and parses to dataframe\n",
    "log = pd.read_csv(file,sep='delimiter', header=None,engine='python')\n",
    "log = log[0].str.split('|',expand=True)\n",
    "log = log.fillna(value=np.nan)\n",
    "\n",
    "#Variables\n",
    "headers = []\n",
    "headers_index = sorted([len(log)])\n",
    "dfs = {}\n",
    "previous_index = 0\n",
    "count=0"
   ]
  },
  {
   "cell_type": "code",
   "execution_count": 51,
   "metadata": {},
   "outputs": [],
   "source": [
    "path = r'/Users/david/Downloads/'                     # use your path\n",
    "all_files = glob.glob(os.path.join(path, \"*.tlg\"))     # advisable to use os.path.join as this makes concatenation OS independent\n",
    "\n",
    "df_from_each_file = (pd.read_csv(f,sep='delimiter', header=None,engine='python') for f in all_files)\n",
    "cdf = pd.concat(df_from_each_file, ignore_index=True)\n",
    "cdf = cdf[0].str.split('|',expand=True)\n",
    "cdf = cdf.fillna(value=np.nan)\n",
    "\n",
    "\n",
    "#Variables\n",
    "headers = []\n",
    "headers_index = sorted([len(log)])\n",
    "dfs = {}\n",
    "previous_index = 0\n",
    "count=0\n",
    "\n",
    "#Iterates through df rows\n",
    "for line in range(0,len(cdf)):\n",
    "\n",
    "    #Indexes by titles\n",
    "    #TODO probably a better way to do this than by > 7. Fix later...maybe\n",
    "    if len(cdf[0].iloc[line]) > 7:\n",
    "\n",
    "        #Creates header name and index \n",
    "        header = cdf[0].iloc[line]\n",
    "        header_index = cdf.index.get_loc(line)\n",
    "\n",
    "\n",
    "        #Stores header name and index  to list \n",
    "        headers.append(header)\n",
    "        headers_index.append(header_index)\n",
    "\n",
    "        #appends multiple dataframes for each category header to dict for output\n",
    "    previous_index = header_index\n",
    "    headers_index = sorted(headers_index)\n",
    "\n",
    "\n",
    "for header in headers:\n",
    "    index1 = headers_index[count]\n",
    "    index2 = headers_index[count+1]\n",
    "    dfs[header] = cdf.iloc[index1:index2]\n",
    "\n",
    "    count += 1\n",
    "\n",
    "\n",
    "#Column Transformations to output proper format\n",
    "dfs['OPTION_TRANSACTIONS']['symbol'] = dfs['OPTION_TRANSACTIONS'][2].str.split(' ').str[0]\n",
    "dfs['OPTION_TRANSACTIONS'].columns = ['option_txs','fitid','option_ticker','opt_description',\n",
    "                                      'exchange','optselltype','buy_sell_type','date','time',\n",
    "                                      'currency','units','100','unit_price',\n",
    "                                      'total_price','commission','currate','symbol'\n",
    "                                     ]\n",
    "\n",
    "dfs['OPTION_TRANSACTIONS']['buy_sell_type'] = dfs['OPTION_TRANSACTIONS']['buy_sell_type'].str.split(';').str[0]\n",
    "\n",
    "dfs['OPTION_TRANSACTIONS']['strike'] = dfs['OPTION_TRANSACTIONS']['opt_description'].str.split(' ').str[2]\n",
    "dfs['OPTION_TRANSACTIONS']['opt_type']  = dfs['OPTION_TRANSACTIONS']['opt_description'].str.split(' ').str[-1]\n",
    "dfs['OPTION_TRANSACTIONS']['expiration'] = dfs['OPTION_TRANSACTIONS']['option_ticker'].str.split(' ').str[-1].str.split('C').str[0].str.split('P').str[0]\n",
    "dfs['OPTION_TRANSACTIONS'] = dfs['OPTION_TRANSACTIONS'].iloc[1:]\n",
    "dfs['OPTION_TRANSACTIONS']['date_time'] = dfs['OPTION_TRANSACTIONS']['date']+' '+dfs['OPTION_TRANSACTIONS']['time']\n",
    "pd.to_datetime(dfs['OPTION_TRANSACTIONS']['date_time'],format='%Y%m%d %H:%M:%S')\n",
    "dfs['OPTION_TRANSACTIONS']['date_time'] = dfs['OPTION_TRANSACTIONS']['date_time'].apply(lambda x: pd.to_datetime(x).strftime('%Y-%m-%d %H:%M:%S'))\n"
   ]
  },
  {
   "cell_type": "code",
   "execution_count": 52,
   "metadata": {},
   "outputs": [
    {
     "data": {
      "text/plain": [
       "{'ACCOUNT_INFORMATION':                     0         1                      2                     3   \\\n",
       " 1779  OPTION_POSITIONS       NaN                    NaN                   NaN   \n",
       " 1780           OPT_LOT  U3913547  AAPL  220121C00130000  AAPL 21JAN22 130.0 C   \n",
       " 1781           OPT_LOT  U3913547  AAPL  220121C00160000  AAPL 21JAN22 160.0 C   \n",
       " 1782           OPT_LOT  U3913547  ASAN  210521C00030000   ASAN 21MAY21 30.0 C   \n",
       " 1783           OPT_LOT  U3913547  ASAN  210521C00040000   ASAN 21MAY21 40.0 C   \n",
       " 1784           OPT_LOT  U3913547  DELL  210416C00077500   DELL 16APR21 77.5 C   \n",
       " 1785           OPT_LOT  U3913547  GDRX  210219C00035000   GDRX 19FEB21 35.0 C   \n",
       " 1786           OPT_LOT  U3913547  IPO   210416C00075000    IPO 16APR21 75.0 C   \n",
       " 1787           OPT_LOT  U3913547  SQ    230120C00195000    SQ 20JAN23 195.0 C   \n",
       " 1788           OPT_LOT  U3913547  SQ    230120C00250000    SQ 20JAN23 250.0 C   \n",
       " 1789           OPT_LOT  U3913547  TSM   210416C00105000   TSM 16APR21 105.0 C   \n",
       " 1790           OPT_LOT  U3913547  TSM   210416C00125000   TSM 16APR21 125.0 C   \n",
       " 1791           OPT_LOT  U3913547  VALE  210319C00020000   VALE 19MAR21 20.0 C   \n",
       " 1792           OPT_LOT  U3913547  X     210416C00020000      X 16APR21 20.0 C   \n",
       " 1793               EOF       NaN                    NaN                   NaN   \n",
       " \n",
       "        4    5         6      7       8          9             10      11   12  \\\n",
       " 1779  NaN  NaN       NaN    NaN     NaN        NaN           NaN     NaN  NaN   \n",
       " 1780  USD       00:00:00   2.00  100.00  15.384338     3076.8676  1.2734  NaN   \n",
       " 1781  USD       00:00:00  -2.00  100.00    7.30548   -1461.09609  1.2734  NaN   \n",
       " 1782  USD       00:00:00   2.00  100.00   7.471338     1494.2676  1.2734  NaN   \n",
       " 1783  USD       00:00:00  -2.00  100.00   4.788536   -957.707228  1.2734  NaN   \n",
       " 1784  USD       00:00:00   1.00  100.00   3.756538      375.6538  1.2734  NaN   \n",
       " 1785  USD       00:00:00   2.00  100.00  12.363338     2472.6676  1.2734  NaN   \n",
       " 1786  USD       00:00:00   2.00  100.00   4.215838      843.1676  1.2734  NaN   \n",
       " 1787  USD       00:00:00   1.00  100.00  57.656338     5765.6338  1.2734  NaN   \n",
       " 1788  USD       00:00:00  -1.00  100.00  40.692743  -4069.274253  1.2734  NaN   \n",
       " 1789  USD       00:00:00   2.00  100.00   8.773588     1754.7176  1.2734  NaN   \n",
       " 1790  USD       00:00:00  -2.00  100.00    3.24132   -648.264057  1.2734  NaN   \n",
       " 1791  USD       00:00:00   5.00  100.00   0.764338       382.169  1.2734  NaN   \n",
       " 1792  USD       00:00:00   4.00  100.00   2.384338      953.7352  1.2734  NaN   \n",
       " 1793  NaN  NaN       NaN    NaN     NaN        NaN           NaN     NaN  NaN   \n",
       " \n",
       "        13   14   15  \n",
       " 1779  NaN  NaN  NaN  \n",
       " 1780  NaN  NaN  NaN  \n",
       " 1781  NaN  NaN  NaN  \n",
       " 1782  NaN  NaN  NaN  \n",
       " 1783  NaN  NaN  NaN  \n",
       " 1784  NaN  NaN  NaN  \n",
       " 1785  NaN  NaN  NaN  \n",
       " 1786  NaN  NaN  NaN  \n",
       " 1787  NaN  NaN  NaN  \n",
       " 1788  NaN  NaN  NaN  \n",
       " 1789  NaN  NaN  NaN  \n",
       " 1790  NaN  NaN  NaN  \n",
       " 1791  NaN  NaN  NaN  \n",
       " 1792  NaN  NaN  NaN  \n",
       " 1793  NaN  NaN  NaN  ,\n",
       " 'STOCK_TRANSACTIONS':                        0         1                   2           3   \\\n",
       " 1794  ACCOUNT_INFORMATION       NaN                 NaN         NaN   \n",
       " 1795              ACT_INF  U3497716  David W Eccles Jr.  Individual   \n",
       " \n",
       "                                              4    5    6    7    8    9    10  \\\n",
       " 1794                                        NaN  NaN  NaN  NaN  NaN  NaN  NaN   \n",
       " 1795  240 Taylor Rd  Ancaster ON L9G 1P5 Canada  NaN  NaN  NaN  NaN  NaN  NaN   \n",
       " \n",
       "        11   12   13   14   15  \n",
       " 1794  NaN  NaN  NaN  NaN  NaN  \n",
       " 1795  NaN  NaN  NaN  NaN  NaN  ,\n",
       " 'OPTION_TRANSACTIONS':      option_txs     fitid option_ticker opt_description exchange optselltype  \\\n",
       " 1797    STK_TRD  94809204            BB  BLACKBERRY LTD     NYSE   BUYTOOPEN   \n",
       " 1798    STK_TRD  95645546            BB  BLACKBERRY LTD   ISLAND   BUYTOOPEN   \n",
       " \n",
       "      buy_sell_type      date      time currency   units   100 unit_price  \\\n",
       " 1797             O  20210125  10:47:52      USD  100.00  1.00      20.11   \n",
       " 1798             O  20210128  09:49:15      USD  100.00  1.00      19.81   \n",
       " \n",
       "      total_price commission currate symbol  strike opt_type expiration  \\\n",
       " 1797     2011.00      -1.00  1.2803     BB     NaN      LTD         BB   \n",
       " 1798     1981.00      -1.00  1.2855     BB     NaN      LTD         BB   \n",
       " \n",
       "                 date_time  \n",
       " 1797  2021-01-25 10:47:52  \n",
       " 1798  2021-01-28 09:49:15  ,\n",
       " 'STOCK_POSITIONS':                        0          1                      2   \\\n",
       " 1799  OPTION_TRANSACTIONS        NaN                    NaN   \n",
       " 1800              OPT_TRD   90877921  AAPL  210416C00160000   \n",
       " 1801              OPT_TRD   94761439  AAPL  210416C00160000   \n",
       " 1802              OPT_TRD   94780705  AAPL  210416C00160000   \n",
       " 1803              OPT_TRD   95646864  BB    210205C00025000   \n",
       " 1804              OPT_TRD   96285922  BB    210205C00025000   \n",
       " 1805              OPT_TRD   94810928  BB    210319C00025000   \n",
       " 1806              OPT_TRD   96475830  BB    210319C00025000   \n",
       " 1807              OPT_TRD   96317803  DXC   210319C00030000   \n",
       " 1808              OPT_TRD  101474418  DXC   210319C00030000   \n",
       " 1809              OPT_TRD   90897374  GS    210416C00290000   \n",
       " 1810              OPT_TRD   94859989  GS    210416C00290000   \n",
       " 1811              OPT_TRD   96370779  GS    210416C00300000   \n",
       " 1812              OPT_TRD  101473791  GS    210416C00300000   \n",
       " 1813              OPT_TRD   96367544  GS    210416C00320000   \n",
       " 1814              OPT_TRD  101473758  GS    210416C00320000   \n",
       " 1815              OPT_TRD   93347043  TDOC  210416C00250000   \n",
       " 1816              OPT_TRD   94784841  TDOC  210416C00250000   \n",
       " 1817              OPT_TRD   95526837  VLDR  210319C00030000   \n",
       " 1818              OPT_TRD   99291592  VLDR  210319C00030000   \n",
       " 1819              OPT_TRD   95533625  VLDR  210319C00040000   \n",
       " 1820              OPT_TRD   99291643  VLDR  210319C00040000   \n",
       " \n",
       "                         3             4            5    6         7   \\\n",
       " 1799                   NaN           NaN          NaN  NaN       NaN   \n",
       " 1800  AAPL 16APR21 160.0 C       EMERALD    BUYTOOPEN    O  20201223   \n",
       " 1801  AAPL 16APR21 160.0 C       MERCURY  SELLTOCLOSE    C  20210125   \n",
       " 1802  AAPL 16APR21 160.0 C  EDGX,EMERALD  SELLTOCLOSE    C  20210125   \n",
       " 1803     BB 05FEB21 25.0 C       EMERALD   SELLTOOPEN    O  20210128   \n",
       " 1804     BB 05FEB21 25.0 C        GEMINI   BUYTOCLOSE    C  20210201   \n",
       " 1805     BB 19MAR21 25.0 C        GEMINI   SELLTOOPEN    O  20210125   \n",
       " 1806     BB 19MAR21 25.0 C      NASDAQOM   BUYTOCLOSE    C  20210202   \n",
       " 1807    DXC 19MAR21 30.0 C          BATS    BUYTOOPEN    O  20210201   \n",
       " 1808    DXC 19MAR21 30.0 C          CBOE  SELLTOCLOSE    C  20210303   \n",
       " 1809    GS 16APR21 290.0 C       EMERALD    BUYTOOPEN    O  20201223   \n",
       " 1810    GS 16APR21 290.0 C       EMERALD  SELLTOCLOSE    C  20210125   \n",
       " 1811    GS 16APR21 300.0 C       EMERALD    BUYTOOPEN    O  20210201   \n",
       " 1812    GS 16APR21 300.0 C       EMERALD  SELLTOCLOSE    C  20210303   \n",
       " 1813    GS 16APR21 320.0 C       EMERALD    BUYTOOPEN    O  20210201   \n",
       " 1814    GS 16APR21 320.0 C       EMERALD  SELLTOCLOSE    C  20210303   \n",
       " 1815  TDOC 16APR21 250.0 C       MERCURY    BUYTOOPEN    O  20210113   \n",
       " 1816  TDOC 16APR21 250.0 C      NASDAQOM  SELLTOCLOSE    C  20210125   \n",
       " 1817   VLDR 19MAR21 30.0 C          BATS    BUYTOOPEN    O  20210127   \n",
       " 1818   VLDR 19MAR21 30.0 C       MERCURY  SELLTOCLOSE    C  20210218   \n",
       " 1819   VLDR 19MAR21 40.0 C        GEMINI    BUYTOOPEN    O  20210127   \n",
       " 1820   VLDR 19MAR21 40.0 C       MERCURY  SELLTOCLOSE    C  20210218   \n",
       " \n",
       "             8    9      10      11     12        13         14      15  \n",
       " 1799       NaN  NaN    NaN     NaN    NaN       NaN        NaN     NaN  \n",
       " 1800  09:31:47  USD  10.00  100.00   3.30   3300.00     -3.038  1.2845  \n",
       " 1801  09:57:55  USD  -5.00  100.00   6.05  -3025.00  -3.745852  1.2743  \n",
       " 1802  10:09:21  USD  -5.00  100.00   5.75  -2875.00  -2.012538  1.2743  \n",
       " 1803  09:52:06  USD  -1.00  100.00   3.30   -330.00  -0.663093   1.283  \n",
       " 1804  11:36:22  USD   1.00  100.00   0.35     35.00    -0.7838  1.2855  \n",
       " 1805  10:49:47  USD  -1.00  100.00   7.75   -775.00  -1.592928  1.2743  \n",
       " 1806  10:09:50  USD   1.00  100.00   0.98     98.00    -0.7838  1.2781  \n",
       " 1807  12:54:02  USD   2.00  100.00   2.58    516.00     0.2324  1.2855  \n",
       " 1808  11:15:41  USD  -2.00  100.00   0.10    -20.00  -1.472042  1.2656  \n",
       " 1809  10:04:58  USD   2.00  100.00   6.35   1270.00    -0.6076  1.2845  \n",
       " 1810  11:43:13  USD  -2.00  100.00  12.30  -2460.00  -0.665966  1.2743  \n",
       " 1811  15:36:53  USD   1.00  100.00   7.35    735.00    -0.6538  1.2855  \n",
       " 1812  11:12:34  USD  -1.00  100.00  42.20  -4220.00  -0.749062  1.2656  \n",
       " 1813  15:28:17  USD   1.00  100.00   3.55    355.00    -0.6538  1.2855  \n",
       " 1814  11:07:59  USD  -1.00  100.00  27.15  -2715.00  -0.715801  1.2656  \n",
       " 1815  15:29:22  USD   1.00  100.00  18.39   1839.00    -1.0838  1.2696  \n",
       " 1816  10:15:43  USD  -1.00  100.00  52.46  -5246.00  -0.901737  1.2743  \n",
       " 1817  15:48:10  USD   4.00  100.00   3.70   1480.00     0.4648  1.2803  \n",
       " 1818  13:13:48  USD  -4.00  100.00   0.91   -364.00  -2.951244  1.2678  \n",
       " 1819  15:56:33  USD   2.00  100.00   2.10    420.00     0.0324  1.2803  \n",
       " 1820  13:14:01  USD  -2.00  100.00   0.36    -72.00  -1.473191  1.2678  ,\n",
       " 'OPTION_POSITIONS':                        0          1                      2   \\\n",
       " 1659  OPTION_TRANSACTIONS        NaN                    NaN   \n",
       " 1660              OPT_TRD   67962948  BIR   200515C00001500   \n",
       " 1661              OPT_TRD   68327023  BIR   200515C00001500   \n",
       " 1662              OPT_TRD   68380873  DOO   200717P00034000   \n",
       " 1663              OPT_TRD  648183165  DOO   200717P00034000   \n",
       " 1664              OPT_TRD   67967328  STLC  200515C00006000   \n",
       " 1665              OPT_TRD   68325712  STLC  200515C00006000   \n",
       " 1666              OPT_TRD   68326105  STLC  200515C00006000   \n",
       " 1667              OPT_TRD   88207852  AAPL  220121C00130000   \n",
       " 1668              OPT_TRD   88207769  AAPL  220121C00160000   \n",
       " 1669              OPT_TRD   76846103  AMD   200918P00085000   \n",
       " 1670              OPT_TRD   79822253  AMD   200918P00085000   \n",
       " 1671              OPT_TRD   88114319  AMD   210319C00092500   \n",
       " 1672              OPT_TRD   88114323  AMD   210319C00092500   \n",
       " 1673              OPT_TRD   90782656  AMD   210319C00092500   \n",
       " 1674              OPT_TRD   90782874  AMD   210319C00092500   \n",
       " 1675              OPT_TRD   88114325  AMD   210319C00120000   \n",
       " 1676              OPT_TRD   88114330  AMD   210319C00120000   \n",
       " 1677              OPT_TRD   90782657  AMD   210319C00120000   \n",
       " 1678              OPT_TRD   90782880  AMD   210319C00120000   \n",
       " 1679              OPT_TRD   88898292  ASAN  210521C00030000   \n",
       " 1680              OPT_TRD   88898517  ASAN  210521C00040000   \n",
       " 1681              OPT_TRD   80651437  BA    201120C00180000   \n",
       " 1682              OPT_TRD   81514126  BA    201120C00180000   \n",
       " 1683              OPT_TRD   80651447  BA    201120C00200000   \n",
       " 1684              OPT_TRD   81514129  BA    201120C00200000   \n",
       " 1685              OPT_TRD   80486421  BABA  201218C00300000   \n",
       " 1686              OPT_TRD   83426174  BABA  201218C00300000   \n",
       " 1687              OPT_TRD   75725480  BHC   200918C00018000   \n",
       " 1688              OPT_TRD   76702869  BHC   200918C00018000   \n",
       " 1689              OPT_TRD   86516891  BYND  210319C00130000   \n",
       " 1690              OPT_TRD   90830255  BYND  210319C00130000   \n",
       " 1691              OPT_TRD   86516887  BYND  210319C00160000   \n",
       " 1692              OPT_TRD   90830253  BYND  210319C00160000   \n",
       " 1693              OPT_TRD   87118497  C     210115C00052500   \n",
       " 1694              OPT_TRD   88641299  C     210115C00052500   \n",
       " 1695              OPT_TRD   88902934  DELL  210416C00077500   \n",
       " 1696              OPT_TRD   67897700  ECH   200515C00025000   \n",
       " 1697              OPT_TRD  607605521  ECH   200515C00025000   \n",
       " 1698              OPT_TRD   67898545  ECH   200619C00025000   \n",
       " 1699              OPT_TRD   72493001  ECH   200619C00025000   \n",
       " 1700              OPT_TRD   84267041  ETSY  201030C00150000   \n",
       " 1701              OPT_TRD   84726801  ETSY  201030C00150000   \n",
       " 1702              OPT_TRD   87060397  GDRX  210115C00035000   \n",
       " 1703              OPT_TRD   90385856  GDRX  210115C00035000   \n",
       " 1704              OPT_TRD   90385865  GDRX  210219C00035000   \n",
       " 1705              OPT_TRD   77995748  GRWG  201016C00022500   \n",
       " 1706              OPT_TRD   78216513  GRWG  201016C00022500   \n",
       " 1707              OPT_TRD   88898748  IPO   210416C00075000   \n",
       " 1708              OPT_TRD   90209398  IPOC  210521C00010000   \n",
       " 1709              OPT_TRD   90830645  IPOC  210521C00010000   \n",
       " 1710              OPT_TRD   83859638  KMX   201218C00100000   \n",
       " 1711              OPT_TRD   84697713  KMX   201218C00100000   \n",
       " 1712              OPT_TRD   85176626  KMX   201218C00100000   \n",
       " 1713              OPT_TRD   87124358  LPX   210219C00035000   \n",
       " 1714              OPT_TRD   89855130  LPX   210219C00035000   \n",
       " 1715              OPT_TRD   82667729  LSPD  210219C00035000   \n",
       " 1716              OPT_TRD   86009556  LSPD  210219C00035000   \n",
       " 1717              OPT_TRD   81151908  LULU  210115C00300000   \n",
       " 1718              OPT_TRD   83192001  LULU  210115C00300000   \n",
       " 1719              OPT_TRD   81151903  LULU  210115C00350000   \n",
       " 1720              OPT_TRD   83191988  LULU  210115C00350000   \n",
       " 1721              OPT_TRD   86465472  MRNA  210115C00090000   \n",
       " 1722              OPT_TRD   86662190  MRNA  210115C00090000   \n",
       " 1723              OPT_TRD   86466120  MRNA  210115C00100000   \n",
       " 1724              OPT_TRD   86662200  MRNA  210115C00100000   \n",
       " 1725              OPT_TRD   73241092  MSFT  200821C00210000   \n",
       " 1726              OPT_TRD   75222351  MSFT  200821C00210000   \n",
       " 1727              OPT_TRD   75225052  MSFT  200918C00215000   \n",
       " 1728              OPT_TRD   78739002  MSFT  200918C00215000   \n",
       " 1729              OPT_TRD   85600725  NFLX  210115C00520000   \n",
       " 1730              OPT_TRD   89904820  NFLX  210115C00520000   \n",
       " 1731              OPT_TRD   85600731  NFLX  210115C00560000   \n",
       " 1732              OPT_TRD   89904812  NFLX  210115C00560000   \n",
       " 1733              OPT_TRD   80653706  NKLA  201218P00017500   \n",
       " 1734              OPT_TRD   81579521  NKLA  201218P00017500   \n",
       " 1735              OPT_TRD   80653700  NKLA  201218P00030000   \n",
       " 1736              OPT_TRD   81579531  NKLA  201218P00030000   \n",
       " 1737              OPT_TRD   81134102  NLS   210115C00017500   \n",
       " 1738              OPT_TRD   83836274  NLS   210115C00017500   \n",
       " 1739              OPT_TRD   84070694  NLS   210115C00017500   \n",
       " 1740              OPT_TRD   81134103  NLS   210115C00030000   \n",
       " 1741              OPT_TRD   83836278  NLS   210115C00030000   \n",
       " 1742              OPT_TRD   84070685  NLS   210115C00030000   \n",
       " 1743              OPT_TRD   79290614  NVDA  201120C00575000   \n",
       " 1744              OPT_TRD   79610428  NVDA  201120C00575000   \n",
       " 1745              OPT_TRD   79291002  NVDA  201120C00600000   \n",
       " 1746              OPT_TRD   79610559  NVDA  201120C00600000   \n",
       " 1747              OPT_TRD   84356660  ORCL  210115C00060000   \n",
       " 1748              OPT_TRD   89806703  ORCL  210115C00060000   \n",
       " 1749              OPT_TRD   89059203  PEN   210416P00160000   \n",
       " 1750              OPT_TRD   90205533  PEN   210416P00160000   \n",
       " 1751              OPT_TRD   89059198  PEN   210416P00190000   \n",
       " 1752              OPT_TRD   90205529  PEN   210416P00190000   \n",
       " 1753              OPT_TRD   87127899  RUN   210319C00060000   \n",
       " 1754              OPT_TRD   90834295  RUN   210319C00060000   \n",
       " 1755              OPT_TRD   87676199  SPY   201218C00370000   \n",
       " 1756              OPT_TRD   88641818  SPY   201218C00370000   \n",
       " 1757              OPT_TRD   88642595  SPY   201218C00370000   \n",
       " 1758              OPT_TRD   90888177  SQ    201224C00237500   \n",
       " 1759              OPT_TRD  764916901  SQ    201224C00237500   \n",
       " 1760              OPT_TRD   87131086  SQ    230120C00195000   \n",
       " 1761              OPT_TRD   87131093  SQ    230120C00250000   \n",
       " 1762              OPT_TRD   88783220  TSM   210416C00105000   \n",
       " 1763              OPT_TRD   88783221  TSM   210416C00125000   \n",
       " 1764              OPT_TRD   84070952  TTC   201218C00090000   \n",
       " 1765              OPT_TRD   88898624  TTC   201218C00090000   \n",
       " 1766              OPT_TRD   88899931  TTC   201218C00090000   \n",
       " 1767              OPT_TRD   85728247  V     210115C00200000   \n",
       " 1768              OPT_TRD   86007805  V     210115C00200000   \n",
       " 1769              OPT_TRD   90389820  VALE  210319C00020000   \n",
       " 1770              OPT_TRD   84069358  VFC   210115C00075000   \n",
       " 1771              OPT_TRD   86011447  VFC   210115C00075000   \n",
       " 1772              OPT_TRD   68040328  WYNN  200619C00090000   \n",
       " 1773              OPT_TRD   68208258  WYNN  200619C00090000   \n",
       " 1774              OPT_TRD   68040316  WYNN  200619C00100000   \n",
       " 1775              OPT_TRD   68208259  WYNN  200619C00100000   \n",
       " 1776              OPT_TRD   90205840  X     210416C00020000   \n",
       " 1777              OPT_TRD   90206082  X     210416C00020000   \n",
       " 1778              OPT_TRD   90206394  X     210416C00020000   \n",
       " \n",
       "                         3             4            5     6         7   \\\n",
       " 1659                   NaN           NaN          NaN   NaN       NaN   \n",
       " 1660     BIR 15MAY20 1.5 C           CDE    BUYTOOPEN     O  20200429   \n",
       " 1661     BIR 15MAY20 1.5 C           CDE  SELLTOCLOSE     C  20200504   \n",
       " 1662    DOO 17JUL20 34.0 P           CDE    BUYTOOPEN     O  20200504   \n",
       " 1663    DOO 17JUL20 34.0 P            --  SELLTOCLOSE  C;Ep  20200717   \n",
       " 1664    STLC 15MAY20 6.0 C           CDE    BUYTOOPEN     O  20200429   \n",
       " 1665    STLC 15MAY20 6.0 C           CDE  SELLTOCLOSE     C  20200504   \n",
       " 1666    STLC 15MAY20 6.0 C           CDE  SELLTOCLOSE     C  20200504   \n",
       " 1667  AAPL 21JAN22 130.0 C           PSE    BUYTOOPEN     O  20201201   \n",
       " 1668  AAPL 21JAN22 160.0 C           PSE   SELLTOOPEN     O  20201201   \n",
       " 1669    AMD 18SEP20 85.0 P       EMERALD    BUYTOOPEN     O  20200806   \n",
       " 1670    AMD 18SEP20 85.0 P       MERCURY  SELLTOCLOSE     C  20200908   \n",
       " 1671    AMD 19MAR21 92.5 C          EDGX    BUYTOOPEN     O  20201130   \n",
       " 1672    AMD 19MAR21 92.5 C          EDGX    BUYTOOPEN     O  20201130   \n",
       " 1673    AMD 19MAR21 92.5 C          EDGX  SELLTOCLOSE     C  20201222   \n",
       " 1674    AMD 19MAR21 92.5 C          EDGX  SELLTOCLOSE     C  20201222   \n",
       " 1675   AMD 19MAR21 120.0 C          EDGX   SELLTOOPEN     O  20201130   \n",
       " 1676   AMD 19MAR21 120.0 C          EDGX   SELLTOOPEN     O  20201130   \n",
       " 1677   AMD 19MAR21 120.0 C          EDGX   BUYTOCLOSE     C  20201222   \n",
       " 1678   AMD 19MAR21 120.0 C          EDGX   BUYTOCLOSE     C  20201222   \n",
       " 1679   ASAN 21MAY21 30.0 C      EDGX,ISE    BUYTOOPEN     O  20201207   \n",
       " 1680   ASAN 21MAY21 40.0 C      ISE,EDGX   SELLTOOPEN     O  20201207   \n",
       " 1681    BA 20NOV20 180.0 C          EDGX    BUYTOOPEN     O  20200916   \n",
       " 1682    BA 20NOV20 180.0 C          EDGX  SELLTOCLOSE     C  20200924   \n",
       " 1683    BA 20NOV20 200.0 C          EDGX   SELLTOOPEN     O  20200916   \n",
       " 1684    BA 20NOV20 200.0 C          EDGX   BUYTOCLOSE     C  20200924   \n",
       " 1685  BABA 18DEC20 300.0 C      NASDAQOM    BUYTOOPEN     O  20200915   \n",
       " 1686  BABA 18DEC20 300.0 C      NASDAQOM  SELLTOCLOSE     C  20201014   \n",
       " 1687    BHC 18SEP20 18.0 C        GEMINI    BUYTOOPEN     O  20200727   \n",
       " 1688    BHC 18SEP20 18.0 C          CBOE  SELLTOCLOSE     C  20200805   \n",
       " 1689  BYND 19MAR21 130.0 C          EDGX    BUYTOOPEN     O  20201113   \n",
       " 1690  BYND 19MAR21 130.0 C          EDGX  SELLTOCLOSE     C  20201222   \n",
       " 1691  BYND 19MAR21 160.0 C          EDGX   SELLTOOPEN     O  20201113   \n",
       " 1692  BYND 19MAR21 160.0 C          EDGX   BUYTOCLOSE     C  20201222   \n",
       " 1693      C 15JAN21 52.5 C      NASDAQOM    BUYTOOPEN     O  20201119   \n",
       " 1694      C 15JAN21 52.5 C       EMERALD  SELLTOCLOSE     C  20201203   \n",
       " 1695   DELL 16APR21 77.5 C       EMERALD    BUYTOOPEN     O  20201207   \n",
       " 1696    ECH 15MAY20 25.0 C       EMERALD    BUYTOOPEN     O  20200428   \n",
       " 1697    ECH 15MAY20 25.0 C            --  SELLTOCLOSE  C;Ep  20200515   \n",
       " 1698    ECH 19JUN20 25.0 C           ISE    BUYTOOPEN     O  20200428   \n",
       " 1699    ECH 19JUN20 25.0 C           ISE  SELLTOCLOSE     C  20200619   \n",
       " 1700  ETSY 30OCT20 150.0 C       EMERALD    BUYTOOPEN     O  20201022   \n",
       " 1701  ETSY 30OCT20 150.0 C          EDGX  SELLTOCLOSE     C  20201028   \n",
       " 1702   GDRX 15JAN21 35.0 C          BATS    BUYTOOPEN     O  20201119   \n",
       " 1703   GDRX 15JAN21 35.0 C           ISE  SELLTOCLOSE     C  20201218   \n",
       " 1704   GDRX 19FEB21 35.0 C           ISE    BUYTOOPEN     O  20201218   \n",
       " 1705   GRWG 16OCT20 22.5 C          BATS   SELLTOOPEN     O  20200819   \n",
       " 1706   GRWG 16OCT20 22.5 C          BATS   BUYTOCLOSE     C  20200821   \n",
       " 1707    IPO 16APR21 75.0 C         PEARL    BUYTOOPEN     O  20201207   \n",
       " 1708   IPOC 21MAY21 10.0 C          EDGX    BUYTOOPEN     O  20201217   \n",
       " 1709   IPOC 21MAY21 10.0 C           PSE  SELLTOCLOSE     C  20201222   \n",
       " 1710   KMX 18DEC20 100.0 C      NASDAQOM    BUYTOOPEN     O  20201019   \n",
       " 1711   KMX 18DEC20 100.0 C      NASDAQOM  SELLTOCLOSE     C  20201028   \n",
       " 1712   KMX 18DEC20 100.0 C      NASDAQOM  SELLTOCLOSE     C  20201102   \n",
       " 1713    LPX 19FEB21 35.0 C           PSE    BUYTOOPEN     O  20201119   \n",
       " 1714    LPX 19FEB21 35.0 C          CBOE  SELLTOCLOSE     C  20201215   \n",
       " 1715   LSPD 19FEB21 35.0 C           PSE    BUYTOOPEN     O  20201006   \n",
       " 1716   LSPD 19FEB21 35.0 C           PSE  SELLTOCLOSE     C  20201110   \n",
       " 1717  LULU 15JAN21 300.0 C          EDGX    BUYTOOPEN     O  20200921   \n",
       " 1718  LULU 15JAN21 300.0 C          EDGX  SELLTOCLOSE     C  20201012   \n",
       " 1719  LULU 15JAN21 350.0 C          EDGX   SELLTOOPEN     O  20200921   \n",
       " 1720  LULU 15JAN21 350.0 C          EDGX   BUYTOCLOSE     C  20201012   \n",
       " 1721   MRNA 15JAN21 90.0 C          EDGX    BUYTOOPEN     O  20201113   \n",
       " 1722   MRNA 15JAN21 90.0 C          EDGX  SELLTOCLOSE     C  20201116   \n",
       " 1723  MRNA 15JAN21 100.0 C          EDGX   SELLTOOPEN     O  20201113   \n",
       " 1724  MRNA 15JAN21 100.0 C          EDGX   BUYTOCLOSE     C  20201116   \n",
       " 1725  MSFT 21AUG20 210.0 C          BATS    BUYTOOPEN     O  20200629   \n",
       " 1726  MSFT 21AUG20 210.0 C          EDGX  SELLTOCLOSE     C  20200721   \n",
       " 1727  MSFT 18SEP20 215.0 C       MERCURY    BUYTOOPEN     O  20200721   \n",
       " 1728  MSFT 18SEP20 215.0 C          CBOE  SELLTOCLOSE     C  20200827   \n",
       " 1729  NFLX 15JAN21 520.0 C          EDGX    BUYTOOPEN     O  20201105   \n",
       " 1730  NFLX 15JAN21 520.0 C          EDGX  SELLTOCLOSE     C  20201215   \n",
       " 1731  NFLX 15JAN21 560.0 C          EDGX   SELLTOOPEN     O  20201105   \n",
       " 1732  NFLX 15JAN21 560.0 C          EDGX   BUYTOCLOSE     C  20201215   \n",
       " 1733   NKLA 18DEC20 17.5 P           ISE   SELLTOOPEN     O  20200916   \n",
       " 1734   NKLA 18DEC20 17.5 P           ISE   BUYTOCLOSE     C  20200924   \n",
       " 1735   NKLA 18DEC20 30.0 P           ISE    BUYTOOPEN     O  20200916   \n",
       " 1736   NKLA 18DEC20 30.0 P           ISE  SELLTOCLOSE     C  20200924   \n",
       " 1737    NLS 15JAN21 17.5 C      ISE,EDGX    BUYTOOPEN     O  20200921   \n",
       " 1738    NLS 15JAN21 17.5 C           ISE  SELLTOCLOSE     C  20201019   \n",
       " 1739    NLS 15JAN21 17.5 C           ISE  SELLTOCLOSE     C  20201021   \n",
       " 1740    NLS 15JAN21 30.0 C      EDGX,ISE   SELLTOOPEN     O  20200921   \n",
       " 1741    NLS 15JAN21 30.0 C           ISE   BUYTOCLOSE     C  20201019   \n",
       " 1742    NLS 15JAN21 30.0 C           ISE   BUYTOCLOSE     C  20201021   \n",
       " 1743  NVDA 20NOV20 575.0 C          EDGX    BUYTOOPEN     O  20200902   \n",
       " 1744  NVDA 20NOV20 575.0 C          EDGX  SELLTOCLOSE     C  20200904   \n",
       " 1745  NVDA 20NOV20 600.0 C          EDGX   SELLTOOPEN     O  20200902   \n",
       " 1746  NVDA 20NOV20 600.0 C          EDGX   BUYTOCLOSE     C  20200904   \n",
       " 1747   ORCL 15JAN21 60.0 C       MERCURY    BUYTOOPEN     O  20201023   \n",
       " 1748   ORCL 15JAN21 60.0 C       MERCURY  SELLTOCLOSE     C  20201214   \n",
       " 1749   PEN 16APR21 160.0 P          EDGX   SELLTOOPEN     O  20201208   \n",
       " 1750   PEN 16APR21 160.0 P          EDGX   BUYTOCLOSE     C  20201217   \n",
       " 1751   PEN 16APR21 190.0 P          EDGX    BUYTOOPEN     O  20201208   \n",
       " 1752   PEN 16APR21 190.0 P          EDGX  SELLTOCLOSE     C  20201217   \n",
       " 1753    RUN 19MAR21 60.0 C           PSE    BUYTOOPEN     O  20201119   \n",
       " 1754    RUN 19MAR21 60.0 C       MERCURY  SELLTOCLOSE     C  20201222   \n",
       " 1755   SPY 18DEC20 370.0 C  EDGX,MERCURY    BUYTOOPEN     O  20201124   \n",
       " 1756   SPY 18DEC20 370.0 C         CBOE2  SELLTOCLOSE     C  20201203   \n",
       " 1757   SPY 18DEC20 370.0 C         CBOE2  SELLTOCLOSE     C  20201203   \n",
       " 1758    SQ 24DEC20 237.5 C      NASDAQOM    BUYTOOPEN     O  20201223   \n",
       " 1759    SQ 24DEC20 237.5 C            --  SELLTOCLOSE  C;Ep  20201224   \n",
       " 1760    SQ 20JAN23 195.0 C          EDGX    BUYTOOPEN     O  20201119   \n",
       " 1761    SQ 20JAN23 250.0 C          EDGX   SELLTOOPEN     O  20201119   \n",
       " 1762   TSM 16APR21 105.0 C      PSE,EDGX    BUYTOOPEN     O  20201204   \n",
       " 1763   TSM 16APR21 125.0 C      EDGX,PSE   SELLTOOPEN     O  20201204   \n",
       " 1764    TTC 18DEC20 90.0 C           PSE    BUYTOOPEN     O  20201021   \n",
       " 1765    TTC 18DEC20 90.0 C          BATS  SELLTOCLOSE     C  20201207   \n",
       " 1766    TTC 18DEC20 90.0 C          BATS  SELLTOCLOSE     C  20201207   \n",
       " 1767     V 15JAN21 200.0 C      NASDAQOM    BUYTOOPEN     O  20201106   \n",
       " 1768     V 15JAN21 200.0 C      NASDAQOM  SELLTOCLOSE     C  20201110   \n",
       " 1769   VALE 19MAR21 20.0 C      NASDAQOM    BUYTOOPEN     O  20201218   \n",
       " 1770    VFC 15JAN21 75.0 C      NASDAQOM    BUYTOOPEN     O  20201021   \n",
       " 1771    VFC 15JAN21 75.0 C      NASDAQOM  SELLTOCLOSE     C  20201110   \n",
       " 1772   WYNN 19JUN20 90.0 C      PSE,EDGX    BUYTOOPEN     O  20200429   \n",
       " 1773   WYNN 19JUN20 90.0 C      PSE,PHLX  SELLTOCLOSE     C  20200501   \n",
       " 1774  WYNN 19JUN20 100.0 C      PSE,EDGX   SELLTOOPEN     O  20200429   \n",
       " 1775  WYNN 19JUN20 100.0 C      PSE,PHLX   BUYTOCLOSE     C  20200501   \n",
       " 1776      X 16APR21 20.0 C      NASDAQOM   SELLTOOPEN     O  20201217   \n",
       " 1777      X 16APR21 20.0 C       MERCURY   BUYTOCLOSE     C  20201217   \n",
       " 1778      X 16APR21 20.0 C        GEMINI    BUYTOOPEN     O  20201217   \n",
       " \n",
       "             8    9       10      11     12        13         14      15  \n",
       " 1659       NaN  NaN     NaN     NaN    NaN       NaN        NaN     NaN  \n",
       " 1660  09:53:37  CAD   25.00  100.00   0.20    500.00     -31.25    1.00  \n",
       " 1661  09:38:15  CAD  -25.00  100.00   0.10   -250.00     -31.25    1.00  \n",
       " 1662  14:08:48  CAD    5.00  100.00   2.80   1400.00      -6.25    1.00  \n",
       " 1663  16:20:00  CAD   -5.00  100.00   0.00      0.00       0.00    1.00  \n",
       " 1664  10:03:03  CAD   10.00  100.00   1.10   1100.00     -12.50    1.00  \n",
       " 1665  09:35:59  CAD   -1.00  100.00   0.50    -50.00      -1.50    1.00  \n",
       " 1666  09:36:38  CAD   -9.00  100.00   0.50   -450.00     -11.25    1.00  \n",
       " 1667  09:47:39  USD    2.00  100.00  15.38   3076.00    -0.8676  1.2934  \n",
       " 1668  09:47:39  USD   -2.00  100.00   7.31  -1462.00   -0.90391  1.2934  \n",
       " 1669  14:53:46  USD    1.00  100.00   5.55    555.00    -0.6638  1.3308  \n",
       " 1670  10:28:36  USD   -1.00  100.00   6.10   -610.00  -1.099281  1.3238  \n",
       " 1671  13:04:10  USD    1.00  100.00  10.77   1077.00    -0.6338  1.3008  \n",
       " 1672  13:04:10  USD    1.00  100.00  10.77   1077.00    -0.6338  1.3008  \n",
       " 1673  11:59:55  USD   -1.00  100.00   9.10   -910.00  -0.655911  1.2907  \n",
       " 1674  12:00:38  USD   -1.00  100.00   9.12   -912.00  -0.655955  1.2907  \n",
       " 1675  13:04:10  USD   -1.00  100.00   3.52   -352.00  -0.643579  1.3008  \n",
       " 1676  13:04:10  USD   -1.00  100.00   3.52   -352.00  -0.643579  1.3008  \n",
       " 1677  11:59:55  USD    1.00  100.00   2.30    230.00    -0.6338  1.2907  \n",
       " 1678  12:00:38  USD    1.00  100.00   2.32    232.00    -0.6338  1.2907  \n",
       " 1679  12:07:41  USD    2.00  100.00   7.47   1494.00    -0.2676  1.2799  \n",
       " 1680  12:07:41  USD   -2.00  100.00   4.79   -958.00  -0.292772  1.2799  \n",
       " 1681  11:01:00  USD    1.00  100.00  10.86   1086.00    -0.6338  1.3177  \n",
       " 1682  10:31:26  USD   -1.00  100.00   4.84   -484.00  -0.646496  1.3361  \n",
       " 1683  11:01:00  USD   -1.00  100.00   6.21   -621.00  -0.649524  1.3177  \n",
       " 1684  10:31:26  USD    1.00  100.00   2.67    267.00    -0.6338  1.3361  \n",
       " 1685  09:30:46  USD    1.00  100.00  12.53   1253.00    -0.7838  1.3186  \n",
       " 1686  11:59:41  USD   -1.00  100.00  24.68  -2468.00  -0.840343  1.3151  \n",
       " 1687  10:01:59  USD    4.00  100.00   1.19    476.00    -1.7752  1.3354  \n",
       " 1688  13:53:52  USD   -4.00  100.00   2.23   -892.00  -3.002913  1.3264  \n",
       " 1689  13:21:02  USD    1.00  100.00  17.08   1708.00    -0.6338  1.3133  \n",
       " 1690  15:30:56  USD   -1.00  100.00  21.23  -2123.00  -0.682718  1.2907  \n",
       " 1691  13:21:02  USD   -1.00  100.00   8.55   -855.00  -0.654695  1.3133  \n",
       " 1692  15:30:56  USD    1.00  100.00  10.24   1024.00    -0.6338  1.2907  \n",
       " 1693  12:40:26  USD    2.00  100.00   2.92    584.00    -0.8676  1.3072  \n",
       " 1694  14:53:36  USD   -2.00  100.00   5.70  -1140.00  -0.636794  1.2862  \n",
       " 1695  12:25:53  USD    1.00  100.00   3.75    375.00    -0.6538  1.2799  \n",
       " 1696  13:01:14  USD    5.00  100.00   0.55    275.00      0.531  1.3998  \n",
       " 1697  16:20:00  USD   -5.00  100.00   0.00      0.00       0.00  1.4109  \n",
       " 1698  13:08:26  USD    5.00  100.00   1.05    525.00      0.581  1.3998  \n",
       " 1699  14:48:13  USD   -5.00  100.00   0.50   -250.00   0.565475  1.3608  \n",
       " 1700  15:18:54  USD    1.00  100.00   3.10    310.00    -0.6538  1.3137  \n",
       " 1701  10:41:26  USD   -1.00  100.00   4.70   -470.00  -1.086187  1.3321  \n",
       " 1702  09:53:09  USD    2.00  100.00   6.80   1360.00     0.2324  1.3072  \n",
       " 1703  12:29:17  USD   -2.00  100.00  11.13  -2226.00  -0.720795  1.2785  \n",
       " 1704  12:29:17  USD    2.00  100.00  12.36   2472.00    -0.6676  1.2785  \n",
       " 1705  13:28:39  USD   -2.00  100.00   3.20   -640.00   0.194256  1.3217  \n",
       " 1706  11:17:21  USD    2.00  100.00   1.20    240.00     0.2124  1.3176  \n",
       " 1707  12:07:18  USD    2.00  100.00   4.20    840.00    -3.1676  1.2799  \n",
       " 1708  11:25:48  USD    1.00  100.00   3.56    356.00    -0.9738  1.2721  \n",
       " 1709  15:32:13  USD   -1.00  100.00   5.50   -550.00  -0.347955  1.2907  \n",
       " 1710  14:26:08  USD    2.00  100.00   3.10    620.00     0.1324   1.319  \n",
       " 1711  09:49:20  USD   -1.00  100.00   1.20   -120.00  -0.288452  1.3321  \n",
       " 1712  13:30:19  USD   -1.00  100.00   1.45   -145.00  -0.289004  1.3217  \n",
       " 1713  13:01:19  USD    2.00  100.00   3.10    620.00     0.0324  1.3072  \n",
       " 1714  09:45:32  USD   -2.00  100.00   5.10  -1020.00  -1.494142    1.27  \n",
       " 1715  15:25:13  USD    1.00  100.00   4.70    470.00    -0.3338  1.3314  \n",
       " 1716  09:49:41  USD   -1.00  100.00   6.80   -680.00  -0.350828  1.3031  \n",
       " 1717  15:03:22  USD    1.00  100.00  27.55   2755.00    -0.6338  1.3305  \n",
       " 1718  14:47:22  USD   -1.00  100.00  63.15  -6315.00  -0.775362  1.3113  \n",
       " 1719  15:03:22  USD   -1.00  100.00  11.00  -1100.00   -0.66011  1.3305  \n",
       " 1720  14:47:22  USD    1.00  100.00  32.47   3247.00    -0.6338  1.3113  \n",
       " 1721  10:19:52  USD    1.00  100.00  14.43   1443.00    -0.6338  1.3133  \n",
       " 1722  12:36:07  USD   -1.00  100.00  15.08  -1508.00  -0.669127  1.3073  \n",
       " 1723  10:19:52  USD   -1.00  100.00  10.35  -1035.00  -0.658674  1.3133  \n",
       " 1724  12:36:07  USD    1.00  100.00  10.31   1031.00    -0.6338  1.3073  \n",
       " 1725  11:47:08  USD    1.00  100.00   5.11    511.00    -0.7938   1.366  \n",
       " 1726  12:07:32  USD   -1.00  100.00   8.20   -820.00  -1.103922  1.3458  \n",
       " 1727  12:21:27  USD    2.00  100.00   8.65   1730.00    -1.4876  1.3458  \n",
       " 1728  10:50:14  USD   -2.00  100.00  16.99  -3398.00  -1.566696  1.3128  \n",
       " 1729  15:28:59  USD    1.00  100.00  37.06   3706.00    -0.6338  1.3044  \n",
       " 1730  11:34:14  USD   -1.00  100.00  21.45  -2145.00  -0.683204    1.27  \n",
       " 1731  15:28:59  USD   -1.00  100.00  21.73  -2173.00  -0.683823  1.3044  \n",
       " 1732  11:34:14  USD    1.00  100.00   8.69    869.00    -0.6338    1.27  \n",
       " 1733  11:06:04  USD   -1.00  100.00   3.48   -348.00  -0.693491  1.3177  \n",
       " 1734  15:05:03  USD    1.00  100.00   6.05    605.00    -0.6838  1.3361  \n",
       " 1735  11:06:04  USD    1.00  100.00   9.13    913.00    -0.6838  1.3177  \n",
       " 1736  15:05:03  USD   -1.00  100.00  14.75  -1475.00  -0.718398  1.3361  \n",
       " 1737  13:23:31  USD    2.00  100.00   4.01    802.00    -0.2676  1.3305  \n",
       " 1738  12:18:59  USD   -1.00  100.00   9.25   -925.00  -0.706242   1.319  \n",
       " 1739  10:33:09  USD   -1.00  100.00  10.98  -1098.00  -0.710066  1.3145  \n",
       " 1740  13:23:31  USD   -2.00  100.00   1.33   -266.00  -0.277479  1.3305  \n",
       " 1741  12:18:59  USD    1.00  100.00   3.55    355.00    -0.6838   1.319  \n",
       " 1742  10:33:09  USD    1.00  100.00   4.63    463.00    -0.6838  1.3145  \n",
       " 1743  10:48:03  USD    1.00  100.00  66.29   6629.00    -0.6338  1.3045  \n",
       " 1744  10:31:35  USD   -1.00  100.00  31.43  -3143.00   -0.70526   1.306  \n",
       " 1745  10:48:03  USD   -1.00  100.00  56.23  -5623.00  -0.760068  1.3045  \n",
       " 1746  10:31:35  USD    1.00  100.00  25.95   2595.00    -0.6338   1.306  \n",
       " 1747  12:17:49  USD    1.00  100.00   3.29    329.00    -1.0838  1.3124  \n",
       " 1748  15:45:14  USD   -1.00  100.00   2.12   -212.00  -1.090485  1.2764  \n",
       " 1749  12:09:12  USD   -1.00  100.00  20.44  -2044.00  -0.330972  1.2819  \n",
       " 1750  11:11:22  USD    1.00  100.00  22.85   2285.00    -0.2838  1.2721  \n",
       " 1751  12:09:12  USD    1.00  100.00  34.99   3499.00    -0.2838  1.2819  \n",
       " 1752  11:11:22  USD   -1.00  100.00  38.15  -3815.00  -0.370111  1.2721  \n",
       " 1753  13:25:32  USD    1.00  100.00  10.00   1000.00    -0.3338  1.3072  \n",
       " 1754  15:42:36  USD   -1.00  100.00  14.14  -1414.00  -1.117049  1.2907  \n",
       " 1755  15:52:06  USD    2.00  100.00   3.05    610.00    -1.3576  1.2997  \n",
       " 1756  14:56:23  USD   -1.00  100.00   3.53   -353.00  -0.673601  1.2862  \n",
       " 1757  14:59:33  USD   -1.00  100.00   3.57   -357.00   -0.67369  1.2862  \n",
       " 1758  09:51:45  USD    2.00  100.00   1.35    270.00    -0.8676  1.2845  \n",
       " 1759  16:20:00  USD   -2.00  100.00   0.00      0.00       0.00  1.2875  \n",
       " 1760  13:45:23  USD    1.00  100.00  57.65   5765.00    -0.6338  1.3072  \n",
       " 1761  13:45:23  USD   -1.00  100.00  40.70  -4070.00  -0.725747  1.3072  \n",
       " 1762  13:07:51  USD    2.00  100.00   8.77   1754.00    -0.7176  1.2784  \n",
       " 1763  13:07:51  USD   -2.00  100.00  3.245   -649.00  -0.735943  1.2784  \n",
       " 1764  10:34:02  USD    2.00  100.00   2.20    440.00     0.0324  1.3145  \n",
       " 1765  12:08:16  USD   -1.00  100.00   2.10   -210.00  -0.240441  1.2799  \n",
       " 1766  12:09:26  USD   -1.00  100.00   2.10   -210.00  -0.240441  1.2799  \n",
       " 1767  13:55:13  USD    1.00  100.00   8.77    877.00    -0.7838  1.3058  \n",
       " 1768  09:46:26  USD   -1.00  100.00  15.78  -1578.00  -0.820674  1.3031  \n",
       " 1769  12:42:53  USD    5.00  100.00   0.76    380.00     -2.169  1.2785  \n",
       " 1770  10:29:15  USD    1.00  100.00   4.60    460.00    -0.2838  1.3145  \n",
       " 1771  09:49:08  USD   -1.00  100.00   6.00   -600.00   -0.29906  1.3031  \n",
       " 1772  15:27:10  USD    5.00  100.00   8.95   4475.00     -1.619  1.3878  \n",
       " 1773  09:55:04  USD   -5.00  100.00  5.372  -2686.00  -3.488361  1.4088  \n",
       " 1774  15:27:10  USD   -5.00  100.00   4.80  -2400.00   -1.68204  1.3878  \n",
       " 1775  09:55:04  USD    5.00  100.00  2.772   1386.00     -3.419  1.4088  \n",
       " 1776  11:12:43  USD   -4.00  100.00   2.34   -936.00  -1.763886  1.2721  \n",
       " 1777  11:13:29  USD    4.00  100.00   2.41    964.00    -2.9352  1.2721  \n",
       " 1778  11:14:31  USD    4.00  100.00   2.38    952.00    -1.7352  1.2721  }"
      ]
     },
     "execution_count": 52,
     "metadata": {},
     "output_type": "execute_result"
    }
   ],
   "source": [
    "dfs"
   ]
  },
  {
   "cell_type": "code",
   "execution_count": null,
   "metadata": {},
   "outputs": [],
   "source": []
  }
 ],
 "metadata": {
  "interpreter": {
   "hash": "aee8b7b246df8f9039afb4144a1f6fd8d2ca17a180786b69acc140d282b71a49"
  },
  "kernelspec": {
   "display_name": "Python 3.9.7 64-bit",
   "name": "python3"
  },
  "language_info": {
   "codemirror_mode": {
    "name": "ipython",
    "version": 3
   },
   "file_extension": ".py",
   "mimetype": "text/x-python",
   "name": "python",
   "nbconvert_exporter": "python",
   "pygments_lexer": "ipython3",
   "version": "3.9.7"
  }
 },
 "nbformat": 4,
 "nbformat_minor": 4
}
